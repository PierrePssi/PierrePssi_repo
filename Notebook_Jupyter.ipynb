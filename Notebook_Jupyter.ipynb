{
 "cells": [
  {
   "cell_type": "markdown",
   "id": "0b1da432-3a2a-4381-82e3-d8009ee14953",
   "metadata": {},
   "source": [
    "# <p style=\"text-align: center;\"><b>Projet Data Management 📊</b></p>\n",
    "# <p style=\"text-align: center;\"><b>Paris Wi-Fi - Utilisation des hotspots du réseau 🌐</b></p>\n"
   ]
  },
  {
   "cell_type": "markdown",
   "id": "4136bc30-4773-42be-b1d9-95d03e798672",
   "metadata": {
    "jp-MarkdownHeadingCollapsed": true
   },
   "source": [
    "## <p style=\"text-align: center;\"><b>Origine des données 📉 </b></p>\n",
    "\n",
    "Les données utilisées dans ce projet proviennent de la plateforme [OpenData Paris](https://opendata.paris.fr/).\n",
    "\n",
    "Plus précisément, le dataset utilisé est intitulé **\"Paris Wi-Fi : Utilisation des hotspots Paris Wi-Fi\"**.  \n",
    "Le lien vers le dataset est disponible ici :  \n",
    "[Paris Wi-Fi - Utilisation des hotspots](https://opendata.paris.fr/explore/dataset/paris-wi-fi-utilisation-des-hotspots-paris-wi-fi/table/?disjunctive.incomingzonelabel&disjunctive.incomingnetworklabel&disjunctive.device_portal_format&disjunctive.device_constructor_name&disjunctive.device_operating_system_name_version&disjunctive.device_browser_name_version&disjunctive.userlanguage)\n",
    "\n",
    "Ce dataset contient des informations sur l'utilisation des bornes Wi-Fi publiques à Paris, notamment :\n",
    "- La durée des sessions.\n",
    "- Les données échangées (entrantes et sortantes).\n",
    "- Le type d'appareil utilisé.\n",
    "- Les localisations des bornes.\n"
   ]
  },
  {
   "cell_type": "markdown",
   "id": "cb44de6d-7c21-4b6d-9d0a-1d8383813bf4",
   "metadata": {},
   "source": [
    "## <p style=\"text-align: center;\"><b>Description du jeu de données  🔎 </b></p>"
   ]
  },
  {
   "cell_type": "code",
   "execution_count": 4,
   "id": "d40cf877-26b1-45fa-912b-1263c2ad8ffd",
   "metadata": {},
   "outputs": [
    {
     "name": "stderr",
     "output_type": "stream",
     "text": [
      "C:\\Users\\Wouaff\\AppData\\Local\\Temp\\ipykernel_19932\\3882447944.py:4: DtypeWarning: Columns (6) have mixed types. Specify dtype option on import or set low_memory=False.\n",
      "  data = pd.read_csv('Paris-wifi-utilisation-300m.csv')\n"
     ]
    },
    {
     "data": {
      "text/html": [
       "<div>\n",
       "<style scoped>\n",
       "    .dataframe tbody tr th:only-of-type {\n",
       "        vertical-align: middle;\n",
       "    }\n",
       "\n",
       "    .dataframe tbody tr th {\n",
       "        vertical-align: top;\n",
       "    }\n",
       "\n",
       "    .dataframe thead th {\n",
       "        text-align: right;\n",
       "    }\n",
       "</style>\n",
       "<table border=\"1\" class=\"dataframe\">\n",
       "  <thead>\n",
       "    <tr style=\"text-align: right;\">\n",
       "      <th></th>\n",
       "      <th>Nom de la colonne</th>\n",
       "      <th>Type de variable</th>\n",
       "      <th>Signification de la colonne</th>\n",
       "      <th>Nombre de valeurs</th>\n",
       "      <th>Valeurs manquantes</th>\n",
       "      <th>Nombre de doublons</th>\n",
       "    </tr>\n",
       "  </thead>\n",
       "  <tbody>\n",
       "    <tr>\n",
       "      <th>0</th>\n",
       "      <td>Nombre d'observations</td>\n",
       "      <td>-</td>\n",
       "      <td>Nombre total de lignes dans le dataset</td>\n",
       "      <td>300000</td>\n",
       "      <td>-</td>\n",
       "      <td>-</td>\n",
       "    </tr>\n",
       "    <tr>\n",
       "      <th>1</th>\n",
       "      <td>Nombre de variables</td>\n",
       "      <td>-</td>\n",
       "      <td>Nombre total de colonnes dans le dataset</td>\n",
       "      <td>25</td>\n",
       "      <td>-</td>\n",
       "      <td>-</td>\n",
       "    </tr>\n",
       "    <tr>\n",
       "      <th>2</th>\n",
       "      <td>Code Site</td>\n",
       "      <td>object</td>\n",
       "      <td>Identifiant unique du site de connexion.</td>\n",
       "      <td>298629</td>\n",
       "      <td>1371</td>\n",
       "      <td>0</td>\n",
       "    </tr>\n",
       "    <tr>\n",
       "      <th>3</th>\n",
       "      <td>Date heure début</td>\n",
       "      <td>object</td>\n",
       "      <td>Date et heure de début de la session.</td>\n",
       "      <td>300000</td>\n",
       "      <td>0</td>\n",
       "      <td>0</td>\n",
       "    </tr>\n",
       "    <tr>\n",
       "      <th>4</th>\n",
       "      <td>Date heure fin</td>\n",
       "      <td>object</td>\n",
       "      <td>Date et heure de fin de la session.</td>\n",
       "      <td>300000</td>\n",
       "      <td>0</td>\n",
       "      <td>0</td>\n",
       "    </tr>\n",
       "    <tr>\n",
       "      <th>5</th>\n",
       "      <td>Temps de session en secondes</td>\n",
       "      <td>float64</td>\n",
       "      <td>Durée de la session en secondes.</td>\n",
       "      <td>300000</td>\n",
       "      <td>0</td>\n",
       "      <td>0</td>\n",
       "    </tr>\n",
       "    <tr>\n",
       "      <th>6</th>\n",
       "      <td>Temps de sessions en minutes</td>\n",
       "      <td>float64</td>\n",
       "      <td>Durée de la session en minutes.</td>\n",
       "      <td>300000</td>\n",
       "      <td>0</td>\n",
       "      <td>0</td>\n",
       "    </tr>\n",
       "    <tr>\n",
       "      <th>7</th>\n",
       "      <td>Nom du site</td>\n",
       "      <td>object</td>\n",
       "      <td>Nom du site de connexion Wi-Fi.</td>\n",
       "      <td>300000</td>\n",
       "      <td>0</td>\n",
       "      <td>0</td>\n",
       "    </tr>\n",
       "    <tr>\n",
       "      <th>8</th>\n",
       "      <td>Code postal</td>\n",
       "      <td>object</td>\n",
       "      <td>Code postal du site.</td>\n",
       "      <td>298464</td>\n",
       "      <td>1536</td>\n",
       "      <td>0</td>\n",
       "    </tr>\n",
       "    <tr>\n",
       "      <th>9</th>\n",
       "      <td>Type d'appareil</td>\n",
       "      <td>object</td>\n",
       "      <td>Type d'appareil utilisé (Mobile, Ordinateur, e...</td>\n",
       "      <td>300000</td>\n",
       "      <td>0</td>\n",
       "      <td>0</td>\n",
       "    </tr>\n",
       "    <tr>\n",
       "      <th>10</th>\n",
       "      <td>Constructeur appareil</td>\n",
       "      <td>object</td>\n",
       "      <td>Constructeur de l'appareil utilisé.</td>\n",
       "      <td>300000</td>\n",
       "      <td>0</td>\n",
       "      <td>0</td>\n",
       "    </tr>\n",
       "    <tr>\n",
       "      <th>11</th>\n",
       "      <td>Version système exploitation</td>\n",
       "      <td>object</td>\n",
       "      <td>Version du système d'exploitation de l'appareil.</td>\n",
       "      <td>296409</td>\n",
       "      <td>3591</td>\n",
       "      <td>0</td>\n",
       "    </tr>\n",
       "    <tr>\n",
       "      <th>12</th>\n",
       "      <td>Version navigateur</td>\n",
       "      <td>object</td>\n",
       "      <td>Version du navigateur utilisé.</td>\n",
       "      <td>298052</td>\n",
       "      <td>1948</td>\n",
       "      <td>0</td>\n",
       "    </tr>\n",
       "    <tr>\n",
       "      <th>13</th>\n",
       "      <td>Donnée entrante (Octet)</td>\n",
       "      <td>float64</td>\n",
       "      <td>Volume de données téléchargées (en octets).</td>\n",
       "      <td>300000</td>\n",
       "      <td>0</td>\n",
       "      <td>0</td>\n",
       "    </tr>\n",
       "    <tr>\n",
       "      <th>14</th>\n",
       "      <td>Donnée entrante (MégaOctet)</td>\n",
       "      <td>float64</td>\n",
       "      <td>Volume de données téléchargées (en méga-octets).</td>\n",
       "      <td>300000</td>\n",
       "      <td>0</td>\n",
       "      <td>0</td>\n",
       "    </tr>\n",
       "    <tr>\n",
       "      <th>15</th>\n",
       "      <td>Donnée sortante (Octet)</td>\n",
       "      <td>float64</td>\n",
       "      <td>Volume de données envoyées (en octets).</td>\n",
       "      <td>300000</td>\n",
       "      <td>0</td>\n",
       "      <td>0</td>\n",
       "    </tr>\n",
       "    <tr>\n",
       "      <th>16</th>\n",
       "      <td>Donnée sortante (MégaOctet)</td>\n",
       "      <td>float64</td>\n",
       "      <td>Volume de données envoyées (en méga-octets).</td>\n",
       "      <td>300000</td>\n",
       "      <td>0</td>\n",
       "      <td>0</td>\n",
       "    </tr>\n",
       "    <tr>\n",
       "      <th>17</th>\n",
       "      <td>Paquets entrants</td>\n",
       "      <td>float64</td>\n",
       "      <td>Nombre de paquets entrants.</td>\n",
       "      <td>300000</td>\n",
       "      <td>0</td>\n",
       "      <td>0</td>\n",
       "    </tr>\n",
       "    <tr>\n",
       "      <th>18</th>\n",
       "      <td>Paquets sortants</td>\n",
       "      <td>float64</td>\n",
       "      <td>Nombre de paquets sortants.</td>\n",
       "      <td>300000</td>\n",
       "      <td>0</td>\n",
       "      <td>0</td>\n",
       "    </tr>\n",
       "    <tr>\n",
       "      <th>19</th>\n",
       "      <td>Langue utilisateur</td>\n",
       "      <td>object</td>\n",
       "      <td>Langue configurée sur l'appareil.</td>\n",
       "      <td>297080</td>\n",
       "      <td>2920</td>\n",
       "      <td>0</td>\n",
       "    </tr>\n",
       "    <tr>\n",
       "      <th>20</th>\n",
       "      <td>geo_shape</td>\n",
       "      <td>object</td>\n",
       "      <td>Coordonnées géographiques (geo_shape).</td>\n",
       "      <td>297638</td>\n",
       "      <td>2362</td>\n",
       "      <td>0</td>\n",
       "    </tr>\n",
       "    <tr>\n",
       "      <th>21</th>\n",
       "      <td>geo_point_2d</td>\n",
       "      <td>object</td>\n",
       "      <td>Coordonnées géographiques (latitude, longitude).</td>\n",
       "      <td>297638</td>\n",
       "      <td>2362</td>\n",
       "      <td>0</td>\n",
       "    </tr>\n",
       "    <tr>\n",
       "      <th>22</th>\n",
       "      <td>Nom du site.1</td>\n",
       "      <td>object</td>\n",
       "      <td>Nom alternatif du site (doublon).</td>\n",
       "      <td>297638</td>\n",
       "      <td>2362</td>\n",
       "      <td>0</td>\n",
       "    </tr>\n",
       "    <tr>\n",
       "      <th>23</th>\n",
       "      <td>Adresse</td>\n",
       "      <td>object</td>\n",
       "      <td>Adresse du site.</td>\n",
       "      <td>297638</td>\n",
       "      <td>2362</td>\n",
       "      <td>0</td>\n",
       "    </tr>\n",
       "    <tr>\n",
       "      <th>24</th>\n",
       "      <td>Code postal.1</td>\n",
       "      <td>float64</td>\n",
       "      <td>Code postal (doublon).</td>\n",
       "      <td>297638</td>\n",
       "      <td>2362</td>\n",
       "      <td>0</td>\n",
       "    </tr>\n",
       "    <tr>\n",
       "      <th>25</th>\n",
       "      <td>Nombre de bornes</td>\n",
       "      <td>float64</td>\n",
       "      <td>Nombre de bornes sur le site.</td>\n",
       "      <td>297638</td>\n",
       "      <td>2362</td>\n",
       "      <td>0</td>\n",
       "    </tr>\n",
       "    <tr>\n",
       "      <th>26</th>\n",
       "      <td>Etat du site</td>\n",
       "      <td>object</td>\n",
       "      <td>État du site (opérationnel ou non).</td>\n",
       "      <td>297638</td>\n",
       "      <td>2362</td>\n",
       "      <td>0</td>\n",
       "    </tr>\n",
       "  </tbody>\n",
       "</table>\n",
       "</div>"
      ],
      "text/plain": [
       "               Nom de la colonne Type de variable  \\\n",
       "0          Nombre d'observations                -   \n",
       "1            Nombre de variables                -   \n",
       "2                      Code Site           object   \n",
       "3               Date heure début           object   \n",
       "4                 Date heure fin           object   \n",
       "5   Temps de session en secondes          float64   \n",
       "6   Temps de sessions en minutes          float64   \n",
       "7                    Nom du site           object   \n",
       "8                    Code postal           object   \n",
       "9                Type d'appareil           object   \n",
       "10         Constructeur appareil           object   \n",
       "11  Version système exploitation           object   \n",
       "12            Version navigateur           object   \n",
       "13       Donnée entrante (Octet)          float64   \n",
       "14   Donnée entrante (MégaOctet)          float64   \n",
       "15       Donnée sortante (Octet)          float64   \n",
       "16   Donnée sortante (MégaOctet)          float64   \n",
       "17              Paquets entrants          float64   \n",
       "18              Paquets sortants          float64   \n",
       "19            Langue utilisateur           object   \n",
       "20                     geo_shape           object   \n",
       "21                  geo_point_2d           object   \n",
       "22                 Nom du site.1           object   \n",
       "23                       Adresse           object   \n",
       "24                 Code postal.1          float64   \n",
       "25              Nombre de bornes          float64   \n",
       "26                  Etat du site           object   \n",
       "\n",
       "                          Signification de la colonne  Nombre de valeurs  \\\n",
       "0              Nombre total de lignes dans le dataset             300000   \n",
       "1            Nombre total de colonnes dans le dataset                 25   \n",
       "2            Identifiant unique du site de connexion.             298629   \n",
       "3               Date et heure de début de la session.             300000   \n",
       "4                 Date et heure de fin de la session.             300000   \n",
       "5                    Durée de la session en secondes.             300000   \n",
       "6                     Durée de la session en minutes.             300000   \n",
       "7                     Nom du site de connexion Wi-Fi.             300000   \n",
       "8                                Code postal du site.             298464   \n",
       "9   Type d'appareil utilisé (Mobile, Ordinateur, e...             300000   \n",
       "10                Constructeur de l'appareil utilisé.             300000   \n",
       "11   Version du système d'exploitation de l'appareil.             296409   \n",
       "12                     Version du navigateur utilisé.             298052   \n",
       "13        Volume de données téléchargées (en octets).             300000   \n",
       "14   Volume de données téléchargées (en méga-octets).             300000   \n",
       "15            Volume de données envoyées (en octets).             300000   \n",
       "16       Volume de données envoyées (en méga-octets).             300000   \n",
       "17                        Nombre de paquets entrants.             300000   \n",
       "18                        Nombre de paquets sortants.             300000   \n",
       "19                  Langue configurée sur l'appareil.             297080   \n",
       "20             Coordonnées géographiques (geo_shape).             297638   \n",
       "21   Coordonnées géographiques (latitude, longitude).             297638   \n",
       "22                  Nom alternatif du site (doublon).             297638   \n",
       "23                                   Adresse du site.             297638   \n",
       "24                             Code postal (doublon).             297638   \n",
       "25                      Nombre de bornes sur le site.             297638   \n",
       "26                État du site (opérationnel ou non).             297638   \n",
       "\n",
       "   Valeurs manquantes Nombre de doublons  \n",
       "0                   -                  -  \n",
       "1                   -                  -  \n",
       "2                1371                  0  \n",
       "3                   0                  0  \n",
       "4                   0                  0  \n",
       "5                   0                  0  \n",
       "6                   0                  0  \n",
       "7                   0                  0  \n",
       "8                1536                  0  \n",
       "9                   0                  0  \n",
       "10                  0                  0  \n",
       "11               3591                  0  \n",
       "12               1948                  0  \n",
       "13                  0                  0  \n",
       "14                  0                  0  \n",
       "15                  0                  0  \n",
       "16                  0                  0  \n",
       "17                  0                  0  \n",
       "18                  0                  0  \n",
       "19               2920                  0  \n",
       "20               2362                  0  \n",
       "21               2362                  0  \n",
       "22               2362                  0  \n",
       "23               2362                  0  \n",
       "24               2362                  0  \n",
       "25               2362                  0  \n",
       "26               2362                  0  "
      ]
     },
     "metadata": {},
     "output_type": "display_data"
    }
   ],
   "source": [
    "import pandas as pd\n",
    "from IPython.display import display\n",
    "\n",
    "data = pd.read_csv('Paris-wifi-utilisation-300m.csv')\n",
    "\n",
    "\n",
    "nombre_observations = data.shape[0] #Lignes\n",
    "nombre_variables = data.shape[1] #Colonnes\n",
    "\n",
    "# On va créer un tableau pour décrire chaque colonne pour une meilleure visualisation dans un premier tmeps\n",
    "\n",
    "description_tableau = pd.DataFrame({\n",
    "    \"Nom de la colonne\": data.columns,\n",
    "    \"Type de variable\": data.dtypes.values,\n",
    "    \"Signification de la colonne\": [\n",
    "        \"Identifiant unique du site de connexion.\",  \n",
    "        \"Date et heure de début de la session.\",\n",
    "        \"Date et heure de fin de la session.\",\n",
    "        \"Durée de la session en secondes.\",\n",
    "        \"Durée de la session en minutes.\",\n",
    "        \"Nom du site de connexion Wi-Fi.\",\n",
    "        \"Code postal du site.\",\n",
    "        \"Type d'appareil utilisé (Mobile, Ordinateur, etc.).\",\n",
    "        \"Constructeur de l'appareil utilisé.\",\n",
    "        \"Version du système d'exploitation de l'appareil.\",\n",
    "        \"Version du navigateur utilisé.\",\n",
    "        \"Volume de données téléchargées (en octets).\",\n",
    "        \"Volume de données téléchargées (en méga-octets).\",\n",
    "        \"Volume de données envoyées (en octets).\",\n",
    "        \"Volume de données envoyées (en méga-octets).\",\n",
    "        \"Nombre de paquets entrants.\",\n",
    "        \"Nombre de paquets sortants.\",\n",
    "        \"Langue configurée sur l'appareil.\",\n",
    "        \"Coordonnées géographiques (geo_shape).\",\n",
    "        \"Coordonnées géographiques (latitude, longitude).\",\n",
    "        \"Nom alternatif du site (doublon).\",\n",
    "        \"Adresse du site.\",\n",
    "        \"Code postal (doublon).\",\n",
    "        \"Nombre de bornes sur le site.\",\n",
    "        \"État du site (opérationnel ou non).\"\n",
    "    ],\n",
    "    \"Nombre de valeurs\": data.count().values,  \n",
    "    \"Valeurs manquantes\": data.isnull().sum().values,\n",
    "    \"Nombre de doublons\": data.duplicated().sum()\n",
    "})\n",
    "\n",
    "# On ajoute aussi le nombre d'observations et de variables\n",
    "informations_globales = pd.DataFrame({\n",
    "    \"Nom de la colonne\": [\"Nombre d'observations\", \"Nombre de variables\"],\n",
    "    \"Type de variable\": [\"-\", \"-\"],\n",
    "    \"Signification de la colonne\": [\"Nombre total de lignes dans le dataset\", \"Nombre total de colonnes dans le dataset\"],\n",
    "    \"Nombre de valeurs\": [nombre_observations, nombre_variables],\n",
    "    \"Valeurs manquantes\": [\"-\", \"-\"],\n",
    "    \"Nombre de doublons\": [\"-\", \"-\"]\n",
    "})\n",
    "\n",
    "# On combine les deux dataframes\n",
    "tableau_complet = pd.concat([informations_globales, description_tableau], ignore_index=True)\n",
    "\n",
    "\n",
    "display(tableau_complet)\n"
   ]
  },
  {
   "cell_type": "markdown",
   "id": "67b4a618-edc8-4c9e-a04d-75e2db1433dc",
   "metadata": {},
   "source": [
    "## <p style=\"text-align: center;\"><b>Nettoyage des données 🧹</b></p>"
   ]
  },
  {
   "cell_type": "markdown",
   "id": "c2556e44-27c7-45ce-835d-393084ad0e10",
   "metadata": {},
   "source": [
    "Voici un résumé concis des nettoyages effectués :\n",
    "\n",
    "- Suppression des valeurs manquantes pour garantir un tableau propre.\n",
    "- Suppression et renommage de colonnes inutiles (Nom du site, Code postal remplacées par Nom du Site, Code Postal).\n",
    "- Transformation des colonnes avec des .0 en entiers pour plus de clarté.\n",
    "- Limiter les décimales pour 'Temps de sessions en minutes'\n",
    "- Nettoyage des colonnes de dates, conversion au format datetime et conservation uniquement des dates (Date_début, Date_fin).\n"
   ]
  },
  {
   "cell_type": "code",
   "execution_count": 5,
   "id": "ceb57bfc-7466-4e93-9026-588f642d5d5d",
   "metadata": {},
   "outputs": [
    {
     "name": "stdout",
     "output_type": "stream",
     "text": [
      "\n",
      "Tableau des données nettoyées et réorganisées :\n"
     ]
    },
    {
     "data": {
      "text/html": [
       "<div>\n",
       "<style scoped>\n",
       "    .dataframe tbody tr th:only-of-type {\n",
       "        vertical-align: middle;\n",
       "    }\n",
       "\n",
       "    .dataframe tbody tr th {\n",
       "        vertical-align: top;\n",
       "    }\n",
       "\n",
       "    .dataframe thead th {\n",
       "        text-align: right;\n",
       "    }\n",
       "</style>\n",
       "<table border=\"1\" class=\"dataframe\">\n",
       "  <thead>\n",
       "    <tr style=\"text-align: right;\">\n",
       "      <th></th>\n",
       "      <th>Code Site</th>\n",
       "      <th>Temps de session en secondes</th>\n",
       "      <th>Temps de sessions en minutes</th>\n",
       "      <th>Type d'appareil</th>\n",
       "      <th>Constructeur appareil</th>\n",
       "      <th>Version système exploitation</th>\n",
       "      <th>Version navigateur</th>\n",
       "      <th>Donnée entrante (Octet)</th>\n",
       "      <th>Donnée entrante (MégaOctet)</th>\n",
       "      <th>Donnée sortante (Octet)</th>\n",
       "      <th>...</th>\n",
       "      <th>geo_point_2d</th>\n",
       "      <th>Nom du Site</th>\n",
       "      <th>Adresse</th>\n",
       "      <th>Code Postal</th>\n",
       "      <th>Nombre de bornes</th>\n",
       "      <th>Etat du site</th>\n",
       "      <th>Date_début</th>\n",
       "      <th>Heure_début</th>\n",
       "      <th>Date_fin</th>\n",
       "      <th>Heure_fin</th>\n",
       "    </tr>\n",
       "  </thead>\n",
       "  <tbody>\n",
       "    <tr>\n",
       "      <th>0</th>\n",
       "      <td>PW0097</td>\n",
       "      <td>5048</td>\n",
       "      <td>84.13</td>\n",
       "      <td>Mobile</td>\n",
       "      <td>autre</td>\n",
       "      <td>inconnu</td>\n",
       "      <td>Chrome 99.0</td>\n",
       "      <td>292671965</td>\n",
       "      <td>279.113736</td>\n",
       "      <td>12575179</td>\n",
       "      <td>...</td>\n",
       "      <td>48.87545394069122, 2.355248428182183</td>\n",
       "      <td>GYMNASE MARIE PARADIS</td>\n",
       "      <td>2 RUE LEON SCHWARTZENBERG</td>\n",
       "      <td>75010</td>\n",
       "      <td>3</td>\n",
       "      <td>Opérationnel</td>\n",
       "      <td>2022-04-08</td>\n",
       "      <td>20:36:00</td>\n",
       "      <td>2022-04-08</td>\n",
       "      <td>22:00:00</td>\n",
       "    </tr>\n",
       "    <tr>\n",
       "      <th>1</th>\n",
       "      <td>PW0015</td>\n",
       "      <td>3972</td>\n",
       "      <td>66.20</td>\n",
       "      <td>Ordinateur</td>\n",
       "      <td>autre</td>\n",
       "      <td>Windows 7</td>\n",
       "      <td>Chrome 97.0</td>\n",
       "      <td>77868018</td>\n",
       "      <td>74.260729</td>\n",
       "      <td>8067189</td>\n",
       "      <td>...</td>\n",
       "      <td>48.86394077019892, 2.276652521898564</td>\n",
       "      <td>MAIRIE DU 16 EME</td>\n",
       "      <td>71 AVENUE HENRI-MARTIN</td>\n",
       "      <td>75016</td>\n",
       "      <td>1</td>\n",
       "      <td>Opérationnel</td>\n",
       "      <td>2022-02-25</td>\n",
       "      <td>13:41:00</td>\n",
       "      <td>2022-02-25</td>\n",
       "      <td>14:47:00</td>\n",
       "    </tr>\n",
       "    <tr>\n",
       "      <th>2</th>\n",
       "      <td>PW0043</td>\n",
       "      <td>2862</td>\n",
       "      <td>47.70</td>\n",
       "      <td>Ordinateur</td>\n",
       "      <td>Apple</td>\n",
       "      <td>Mac OS X 10.15.7</td>\n",
       "      <td>inconnu</td>\n",
       "      <td>264324530</td>\n",
       "      <td>252.079515</td>\n",
       "      <td>58930246</td>\n",
       "      <td>...</td>\n",
       "      <td>48.857065427924205, 2.3616959043904777</td>\n",
       "      <td>BIBLIOTHEQUE HISTORIQUE DE LA VILLE DE PARIS (...</td>\n",
       "      <td>24 RUE PAVEE</td>\n",
       "      <td>75004</td>\n",
       "      <td>1</td>\n",
       "      <td>Opérationnel</td>\n",
       "      <td>2024-02-16</td>\n",
       "      <td>12:56:00</td>\n",
       "      <td>2024-02-16</td>\n",
       "      <td>13:44:00</td>\n",
       "    </tr>\n",
       "    <tr>\n",
       "      <th>3</th>\n",
       "      <td>PW0189</td>\n",
       "      <td>475</td>\n",
       "      <td>7.92</td>\n",
       "      <td>Mobile</td>\n",
       "      <td>Apple</td>\n",
       "      <td>iOS 17.3.1</td>\n",
       "      <td>Safari unknown</td>\n",
       "      <td>604735</td>\n",
       "      <td>0.576720</td>\n",
       "      <td>249512</td>\n",
       "      <td>...</td>\n",
       "      <td>48.86296417505911, 2.304524681937941</td>\n",
       "      <td>BERGES RIVE GAUCHE - JARDIN FLOTTANT</td>\n",
       "      <td>PORT DU GROS CAILLOU</td>\n",
       "      <td>75007</td>\n",
       "      <td>3</td>\n",
       "      <td>Opérationnel</td>\n",
       "      <td>2024-05-08</td>\n",
       "      <td>12:31:00</td>\n",
       "      <td>2024-05-08</td>\n",
       "      <td>12:39:00</td>\n",
       "    </tr>\n",
       "    <tr>\n",
       "      <th>4</th>\n",
       "      <td>PW0196</td>\n",
       "      <td>1407</td>\n",
       "      <td>23.45</td>\n",
       "      <td>Mobile</td>\n",
       "      <td>autre</td>\n",
       "      <td>inconnu</td>\n",
       "      <td>Chrome 105.0</td>\n",
       "      <td>16409914</td>\n",
       "      <td>15.649714</td>\n",
       "      <td>25333951</td>\n",
       "      <td>...</td>\n",
       "      <td>48.86528730587914, 2.3178397689792316</td>\n",
       "      <td>PROMENADE DES CHAMPS ELYSEES - KIOSQUE A MUSIQUE</td>\n",
       "      <td>AVENUE EDWARD TUCK</td>\n",
       "      <td>75008</td>\n",
       "      <td>2</td>\n",
       "      <td>Opérationnel</td>\n",
       "      <td>2022-09-21</td>\n",
       "      <td>08:09:00</td>\n",
       "      <td>2022-09-21</td>\n",
       "      <td>08:33:00</td>\n",
       "    </tr>\n",
       "    <tr>\n",
       "      <th>...</th>\n",
       "      <td>...</td>\n",
       "      <td>...</td>\n",
       "      <td>...</td>\n",
       "      <td>...</td>\n",
       "      <td>...</td>\n",
       "      <td>...</td>\n",
       "      <td>...</td>\n",
       "      <td>...</td>\n",
       "      <td>...</td>\n",
       "      <td>...</td>\n",
       "      <td>...</td>\n",
       "      <td>...</td>\n",
       "      <td>...</td>\n",
       "      <td>...</td>\n",
       "      <td>...</td>\n",
       "      <td>...</td>\n",
       "      <td>...</td>\n",
       "      <td>...</td>\n",
       "      <td>...</td>\n",
       "      <td>...</td>\n",
       "      <td>...</td>\n",
       "    </tr>\n",
       "    <tr>\n",
       "      <th>299995</th>\n",
       "      <td>PW0014</td>\n",
       "      <td>7235</td>\n",
       "      <td>120.58</td>\n",
       "      <td>Ordinateur</td>\n",
       "      <td>autre</td>\n",
       "      <td>Linux unknown</td>\n",
       "      <td>Firefox 106.0</td>\n",
       "      <td>87329414</td>\n",
       "      <td>83.283819</td>\n",
       "      <td>5954266</td>\n",
       "      <td>...</td>\n",
       "      <td>48.841515749400145, 2.2998843875842363</td>\n",
       "      <td>MAIRIE DU 15 EME</td>\n",
       "      <td>31 RUE DE PECLET</td>\n",
       "      <td>75015</td>\n",
       "      <td>8</td>\n",
       "      <td>Opérationnel</td>\n",
       "      <td>2022-11-19</td>\n",
       "      <td>11:38:00</td>\n",
       "      <td>2022-11-19</td>\n",
       "      <td>13:38:00</td>\n",
       "    </tr>\n",
       "    <tr>\n",
       "      <th>299996</th>\n",
       "      <td>PW0103-1</td>\n",
       "      <td>3161</td>\n",
       "      <td>52.68</td>\n",
       "      <td>Mobile</td>\n",
       "      <td>autre</td>\n",
       "      <td>inconnu</td>\n",
       "      <td>Chrome 112.0</td>\n",
       "      <td>43538950</td>\n",
       "      <td>41.521978</td>\n",
       "      <td>3664936</td>\n",
       "      <td>...</td>\n",
       "      <td>48.82090327022334, 2.3684461743082785</td>\n",
       "      <td>CENTRE SPORTIF GEORGES CARPENTIER - BUREAU</td>\n",
       "      <td>81 BOULEVARD MASSENA (BUREAU CENTRE SPORTIF)</td>\n",
       "      <td>75013</td>\n",
       "      <td>2</td>\n",
       "      <td>Opérationnel</td>\n",
       "      <td>2023-05-07</td>\n",
       "      <td>13:48:00</td>\n",
       "      <td>2023-05-07</td>\n",
       "      <td>14:40:00</td>\n",
       "    </tr>\n",
       "    <tr>\n",
       "      <th>299997</th>\n",
       "      <td>PW0255</td>\n",
       "      <td>620</td>\n",
       "      <td>10.33</td>\n",
       "      <td>Mobile</td>\n",
       "      <td>Apple</td>\n",
       "      <td>iOS 17.3.1</td>\n",
       "      <td>Safari unknown</td>\n",
       "      <td>15150825</td>\n",
       "      <td>14.448953</td>\n",
       "      <td>3840978</td>\n",
       "      <td>...</td>\n",
       "      <td>48.85360667271708, 2.348115562490514</td>\n",
       "      <td>CRYPTE</td>\n",
       "      <td>1 PARVIS DE NOTRE DAME</td>\n",
       "      <td>75004</td>\n",
       "      <td>5</td>\n",
       "      <td>En déploiement</td>\n",
       "      <td>2024-04-02</td>\n",
       "      <td>12:31:00</td>\n",
       "      <td>2024-04-02</td>\n",
       "      <td>12:42:00</td>\n",
       "    </tr>\n",
       "    <tr>\n",
       "      <th>299998</th>\n",
       "      <td>PW0112</td>\n",
       "      <td>1579</td>\n",
       "      <td>26.32</td>\n",
       "      <td>Mobile</td>\n",
       "      <td>HUAWEI</td>\n",
       "      <td>inconnu</td>\n",
       "      <td>Chrome 107.0</td>\n",
       "      <td>8866863</td>\n",
       "      <td>8.456100</td>\n",
       "      <td>264804</td>\n",
       "      <td>...</td>\n",
       "      <td>48.86148891058231, 2.3441541095086635</td>\n",
       "      <td>BIBLIOTHEQUE DU CINEMA FRANCOIS TRUFFAUT</td>\n",
       "      <td>14 RUE DES PROUVAIRES</td>\n",
       "      <td>75001</td>\n",
       "      <td>1</td>\n",
       "      <td>Opérationnel</td>\n",
       "      <td>2022-11-15</td>\n",
       "      <td>14:39:00</td>\n",
       "      <td>2022-11-15</td>\n",
       "      <td>15:05:00</td>\n",
       "    </tr>\n",
       "    <tr>\n",
       "      <th>299999</th>\n",
       "      <td>PW0241</td>\n",
       "      <td>1274</td>\n",
       "      <td>21.23</td>\n",
       "      <td>Ordinateur</td>\n",
       "      <td>autre</td>\n",
       "      <td>Windows 10</td>\n",
       "      <td>Firefox 78.0</td>\n",
       "      <td>5053108</td>\n",
       "      <td>4.819019</td>\n",
       "      <td>4078311</td>\n",
       "      <td>...</td>\n",
       "      <td>48.84308836802916, 2.3185793394456393</td>\n",
       "      <td>MUSEE BOURDELLE</td>\n",
       "      <td>18 RUE ANTOINE BOURDELLE</td>\n",
       "      <td>75015</td>\n",
       "      <td>14</td>\n",
       "      <td>Opérationnel</td>\n",
       "      <td>2022-02-07</td>\n",
       "      <td>14:58:00</td>\n",
       "      <td>2022-02-07</td>\n",
       "      <td>15:19:00</td>\n",
       "    </tr>\n",
       "  </tbody>\n",
       "</table>\n",
       "<p>288008 rows × 25 columns</p>\n",
       "</div>"
      ],
      "text/plain": [
       "       Code Site  Temps de session en secondes  Temps de sessions en minutes  \\\n",
       "0         PW0097                          5048                         84.13   \n",
       "1         PW0015                          3972                         66.20   \n",
       "2         PW0043                          2862                         47.70   \n",
       "3         PW0189                           475                          7.92   \n",
       "4         PW0196                          1407                         23.45   \n",
       "...          ...                           ...                           ...   \n",
       "299995    PW0014                          7235                        120.58   \n",
       "299996  PW0103-1                          3161                         52.68   \n",
       "299997    PW0255                           620                         10.33   \n",
       "299998    PW0112                          1579                         26.32   \n",
       "299999    PW0241                          1274                         21.23   \n",
       "\n",
       "       Type d'appareil Constructeur appareil Version système exploitation  \\\n",
       "0               Mobile                 autre                      inconnu   \n",
       "1           Ordinateur                 autre                    Windows 7   \n",
       "2           Ordinateur                 Apple             Mac OS X 10.15.7   \n",
       "3               Mobile                 Apple                   iOS 17.3.1   \n",
       "4               Mobile                 autre                      inconnu   \n",
       "...                ...                   ...                          ...   \n",
       "299995      Ordinateur                 autre                Linux unknown   \n",
       "299996          Mobile                 autre                      inconnu   \n",
       "299997          Mobile                 Apple                   iOS 17.3.1   \n",
       "299998          Mobile                HUAWEI                      inconnu   \n",
       "299999      Ordinateur                 autre                   Windows 10   \n",
       "\n",
       "       Version navigateur  Donnée entrante (Octet)  \\\n",
       "0             Chrome 99.0                292671965   \n",
       "1             Chrome 97.0                 77868018   \n",
       "2                 inconnu                264324530   \n",
       "3          Safari unknown                   604735   \n",
       "4            Chrome 105.0                 16409914   \n",
       "...                   ...                      ...   \n",
       "299995      Firefox 106.0                 87329414   \n",
       "299996       Chrome 112.0                 43538950   \n",
       "299997     Safari unknown                 15150825   \n",
       "299998       Chrome 107.0                  8866863   \n",
       "299999       Firefox 78.0                  5053108   \n",
       "\n",
       "        Donnée entrante (MégaOctet)  Donnée sortante (Octet)  ...  \\\n",
       "0                        279.113736                 12575179  ...   \n",
       "1                         74.260729                  8067189  ...   \n",
       "2                        252.079515                 58930246  ...   \n",
       "3                          0.576720                   249512  ...   \n",
       "4                         15.649714                 25333951  ...   \n",
       "...                             ...                      ...  ...   \n",
       "299995                    83.283819                  5954266  ...   \n",
       "299996                    41.521978                  3664936  ...   \n",
       "299997                    14.448953                  3840978  ...   \n",
       "299998                     8.456100                   264804  ...   \n",
       "299999                     4.819019                  4078311  ...   \n",
       "\n",
       "                                  geo_point_2d  \\\n",
       "0         48.87545394069122, 2.355248428182183   \n",
       "1         48.86394077019892, 2.276652521898564   \n",
       "2       48.857065427924205, 2.3616959043904777   \n",
       "3         48.86296417505911, 2.304524681937941   \n",
       "4        48.86528730587914, 2.3178397689792316   \n",
       "...                                        ...   \n",
       "299995  48.841515749400145, 2.2998843875842363   \n",
       "299996   48.82090327022334, 2.3684461743082785   \n",
       "299997    48.85360667271708, 2.348115562490514   \n",
       "299998   48.86148891058231, 2.3441541095086635   \n",
       "299999   48.84308836802916, 2.3185793394456393   \n",
       "\n",
       "                                              Nom du Site  \\\n",
       "0                                   GYMNASE MARIE PARADIS   \n",
       "1                                        MAIRIE DU 16 EME   \n",
       "2       BIBLIOTHEQUE HISTORIQUE DE LA VILLE DE PARIS (...   \n",
       "3                    BERGES RIVE GAUCHE - JARDIN FLOTTANT   \n",
       "4        PROMENADE DES CHAMPS ELYSEES - KIOSQUE A MUSIQUE   \n",
       "...                                                   ...   \n",
       "299995                                   MAIRIE DU 15 EME   \n",
       "299996         CENTRE SPORTIF GEORGES CARPENTIER - BUREAU   \n",
       "299997                                             CRYPTE   \n",
       "299998           BIBLIOTHEQUE DU CINEMA FRANCOIS TRUFFAUT   \n",
       "299999                                    MUSEE BOURDELLE   \n",
       "\n",
       "                                             Adresse Code Postal  \\\n",
       "0                          2 RUE LEON SCHWARTZENBERG       75010   \n",
       "1                             71 AVENUE HENRI-MARTIN       75016   \n",
       "2                                       24 RUE PAVEE       75004   \n",
       "3                               PORT DU GROS CAILLOU       75007   \n",
       "4                                 AVENUE EDWARD TUCK       75008   \n",
       "...                                              ...         ...   \n",
       "299995                              31 RUE DE PECLET       75015   \n",
       "299996  81 BOULEVARD MASSENA (BUREAU CENTRE SPORTIF)       75013   \n",
       "299997                        1 PARVIS DE NOTRE DAME       75004   \n",
       "299998                         14 RUE DES PROUVAIRES       75001   \n",
       "299999                      18 RUE ANTOINE BOURDELLE       75015   \n",
       "\n",
       "       Nombre de bornes    Etat du site  Date_début Heure_début    Date_fin  \\\n",
       "0                     3    Opérationnel  2022-04-08    20:36:00  2022-04-08   \n",
       "1                     1    Opérationnel  2022-02-25    13:41:00  2022-02-25   \n",
       "2                     1    Opérationnel  2024-02-16    12:56:00  2024-02-16   \n",
       "3                     3    Opérationnel  2024-05-08    12:31:00  2024-05-08   \n",
       "4                     2    Opérationnel  2022-09-21    08:09:00  2022-09-21   \n",
       "...                 ...             ...         ...         ...         ...   \n",
       "299995                8    Opérationnel  2022-11-19    11:38:00  2022-11-19   \n",
       "299996                2    Opérationnel  2023-05-07    13:48:00  2023-05-07   \n",
       "299997                5  En déploiement  2024-04-02    12:31:00  2024-04-02   \n",
       "299998                1    Opérationnel  2022-11-15    14:39:00  2022-11-15   \n",
       "299999               14    Opérationnel  2022-02-07    14:58:00  2022-02-07   \n",
       "\n",
       "        Heure_fin  \n",
       "0        22:00:00  \n",
       "1        14:47:00  \n",
       "2        13:44:00  \n",
       "3        12:39:00  \n",
       "4        08:33:00  \n",
       "...           ...  \n",
       "299995   13:38:00  \n",
       "299996   14:40:00  \n",
       "299997   12:42:00  \n",
       "299998   15:05:00  \n",
       "299999   15:19:00  \n",
       "\n",
       "[288008 rows x 25 columns]"
      ]
     },
     "metadata": {},
     "output_type": "display_data"
    }
   ],
   "source": [
    "\n",
    "# ----- Nettoyage des données ----\n",
    "wifi_usage_data = data.dropna().copy()  # Supprimer les valeurs manquantes\n",
    "\n",
    "# -------- Suppression des colonnes doublons ------\n",
    "if \"Nom du site\" in wifi_usage_data.columns and \"Code postal\" in wifi_usage_data.columns:\n",
    "    wifi_usage_data = wifi_usage_data.drop(columns=[\"Nom du site\", \"Code postal\"])\n",
    "    wifi_usage_data = wifi_usage_data.rename(columns={\"Nom du site.1\": \"Nom du Site\", \"Code postal.1\": \"Code Postal\"})\n",
    "\n",
    "# -------- Conversion des colonnes numériques contenant des `.0` ------\n",
    "columns_transformed = []\n",
    "for column in wifi_usage_data.columns:\n",
    "    if wifi_usage_data[column].dtype == 'float64':\n",
    "        if (wifi_usage_data[column] % 1 == 0).all():\n",
    "            wifi_usage_data[column] = wifi_usage_data[column].astype(int)\n",
    "            columns_transformed.append(column)\n",
    "\n",
    "# -------- Séparation de la date et de l'heure ------#\n",
    "\n",
    "if \"Date heure début\" in wifi_usage_data.columns and \"Date heure fin\" in wifi_usage_data.columns:\n",
    "    wifi_usage_data[\"Date heure début\"] = pd.to_datetime(wifi_usage_data[\"Date heure début\"], errors=\"coerce\", utc=True)\n",
    "    wifi_usage_data[\"Date heure fin\"] = pd.to_datetime(wifi_usage_data[\"Date heure fin\"], errors=\"coerce\", utc=True)\n",
    "\n",
    "    \n",
    "    wifi_usage_data[\"Date_début\"] = wifi_usage_data[\"Date heure début\"].dt.date        # Séparer la date et l'heure pour les colonnes début\n",
    "    wifi_usage_data[\"Heure_début\"] = wifi_usage_data[\"Date heure début\"].dt.time\n",
    "\n",
    "    \n",
    "    wifi_usage_data[\"Date_fin\"] = wifi_usage_data[\"Date heure fin\"].dt.date        # Séparer la date et l'heure pour les colonnes fin\n",
    "    wifi_usage_data[\"Heure_fin\"] = wifi_usage_data[\"Date heure fin\"].dt.time\n",
    "\n",
    "   \n",
    "    wifi_usage_data = wifi_usage_data.drop(columns=[\"Date heure début\", \"Date heure fin\"])   # Supprimer les colonnes originales\n",
    "\n",
    "# -------- Arrondi des colonnes numériques ------#\n",
    "\n",
    "if \"Temps de sessions en minutes\" in wifi_usage_data.columns:\n",
    "    wifi_usage_data[\"Temps de sessions en minutes\"] = wifi_usage_data[\"Temps de sessions en minutes\"].round(2)\n",
    "\n",
    "# ---- Réorganisation des colonnes ----#\n",
    "\n",
    "columns_order = [\n",
    "    \"Code Site\",\n",
    "    \"Date_début\", \"Date_fin\",\n",
    "    \"Heure_début\", \"Heure_fin\",\n",
    "    \"Temps de session en secondes\",\n",
    "    \"Temps de sessions en minutes\",\n",
    "    \"Nom du Site\",\n",
    "    \"Code Postal\",\n",
    "    \"Type d'appareil\",\n",
    "    \"Constructeur appareil\",\n",
    "    \"Version système exploitation\",\n",
    "    \"Version navigateur\",\n",
    "    \"Donnée entrante (Octet)\",\n",
    "    \"Donnée entrante (MégaOctet)\",\n",
    "    \"Donnée sortante (Octet)\",\n",
    "    \"Donnée sortante (MégaOctet)\",\n",
    "    \"Paquets entrants\",\n",
    "    \"Paquets sortants\",\n",
    "    \"Langue utilisateur\",\n",
    "    \"geo_shape\",\n",
    "    \"geo_point_2d\",\n",
    "    \"Adresse\",\n",
    "    \"Nombre de bornes\",\n",
    "    \"Etat du site\"\n",
    "]\n",
    "\n",
    "\n",
    "# ------ Affichage des données nettoyées ------\n",
    "print(\"\\nTableau des données nettoyées et réorganisées :\")\n",
    "display(wifi_usage_data)"
   ]
  },
  {
   "cell_type": "markdown",
   "id": "d06dbf59-ca3e-4af5-8baa-49ffee6f270e",
   "metadata": {},
   "source": [
    "## <p style=\"text-align: center;\"><b>Création des nouvelles variables ⭐</b></p>"
   ]
  },
  {
   "cell_type": "markdown",
   "id": "9d179fbd-c402-4692-9585-9fdddd808664",
   "metadata": {},
   "source": [
    "Dans cette section, trois nouvelles variables ont été créées pour enrichir l’analyse des données :\n",
    "\n",
    "- Pénétration géographique : Le nombre de connexions par arrondissement permettant d’évaluer la couverture et l’utilisation des bornes Wi-Fi selon les zones.\n",
    "- Durée moyenne des sessions par site : La moyenne de la durée des connexions pour chaque site, utile pour identifier les sites les plus attractifs.\n",
    "- Taux d’utilisation par site : Le rapport entre la durée totale des connexions et la capacité totale disponible, offrant une vision globale de l’efficacité et de la saturation des sites.\n",
    " \n",
    "Ces variables visent à mieux comprendre les performances et la répartition de l’utilisation des bornes Wi-Fi, en mettant en lumière les disparités géographiques et temporelles."
   ]
  },
  {
   "cell_type": "code",
   "execution_count": 6,
   "id": "e8ff2a14-cb67-41de-a58d-49b0b1a96ecf",
   "metadata": {},
   "outputs": [
    {
     "name": "stdout",
     "output_type": "stream",
     "text": [
      "\n",
      "Affichage complet du DataFrame avec les nouvelles colonnes sans duplication :\n"
     ]
    },
    {
     "data": {
      "text/html": [
       "<div>\n",
       "<style scoped>\n",
       "    .dataframe tbody tr th:only-of-type {\n",
       "        vertical-align: middle;\n",
       "    }\n",
       "\n",
       "    .dataframe tbody tr th {\n",
       "        vertical-align: top;\n",
       "    }\n",
       "\n",
       "    .dataframe thead th {\n",
       "        text-align: right;\n",
       "    }\n",
       "</style>\n",
       "<table border=\"1\" class=\"dataframe\">\n",
       "  <thead>\n",
       "    <tr style=\"text-align: right;\">\n",
       "      <th></th>\n",
       "      <th>Code Site</th>\n",
       "      <th>Temps de session en secondes</th>\n",
       "      <th>Temps de sessions en minutes</th>\n",
       "      <th>Type d'appareil</th>\n",
       "      <th>Constructeur appareil</th>\n",
       "      <th>Version système exploitation</th>\n",
       "      <th>Version navigateur</th>\n",
       "      <th>Donnée entrante (Octet)</th>\n",
       "      <th>Donnée entrante (MégaOctet)</th>\n",
       "      <th>Donnée sortante (Octet)</th>\n",
       "      <th>...</th>\n",
       "      <th>Nombre de bornes</th>\n",
       "      <th>Etat du site</th>\n",
       "      <th>Date_début</th>\n",
       "      <th>Heure_début</th>\n",
       "      <th>Date_fin</th>\n",
       "      <th>Heure_fin</th>\n",
       "      <th>Nombre de connexions</th>\n",
       "      <th>Pénétration Géographique</th>\n",
       "      <th>Durée Moyenne par Site (minutes)</th>\n",
       "      <th>Taux d’utilisation par site (%)</th>\n",
       "    </tr>\n",
       "  </thead>\n",
       "  <tbody>\n",
       "    <tr>\n",
       "      <th>0</th>\n",
       "      <td>PW0097</td>\n",
       "      <td>5048</td>\n",
       "      <td>84.13</td>\n",
       "      <td>Mobile</td>\n",
       "      <td>autre</td>\n",
       "      <td>inconnu</td>\n",
       "      <td>Chrome 99.0</td>\n",
       "      <td>292671965</td>\n",
       "      <td>279.113736</td>\n",
       "      <td>12575179</td>\n",
       "      <td>...</td>\n",
       "      <td>3</td>\n",
       "      <td>Opérationnel</td>\n",
       "      <td>2022-04-08</td>\n",
       "      <td>20:36:00</td>\n",
       "      <td>2022-04-08</td>\n",
       "      <td>22:00:00</td>\n",
       "      <td>1</td>\n",
       "      <td>Arrondissement 010</td>\n",
       "      <td>57.31</td>\n",
       "      <td>1398</td>\n",
       "    </tr>\n",
       "    <tr>\n",
       "      <th>1</th>\n",
       "      <td>PW0015</td>\n",
       "      <td>3972</td>\n",
       "      <td>66.20</td>\n",
       "      <td>Ordinateur</td>\n",
       "      <td>autre</td>\n",
       "      <td>Windows 7</td>\n",
       "      <td>Chrome 97.0</td>\n",
       "      <td>77868018</td>\n",
       "      <td>74.260729</td>\n",
       "      <td>8067189</td>\n",
       "      <td>...</td>\n",
       "      <td>1</td>\n",
       "      <td>Opérationnel</td>\n",
       "      <td>2022-02-25</td>\n",
       "      <td>13:41:00</td>\n",
       "      <td>2022-02-25</td>\n",
       "      <td>14:47:00</td>\n",
       "      <td>1</td>\n",
       "      <td>Arrondissement 016</td>\n",
       "      <td>23.14</td>\n",
       "      <td>140</td>\n",
       "    </tr>\n",
       "    <tr>\n",
       "      <th>2</th>\n",
       "      <td>PW0043</td>\n",
       "      <td>2862</td>\n",
       "      <td>47.70</td>\n",
       "      <td>Ordinateur</td>\n",
       "      <td>Apple</td>\n",
       "      <td>Mac OS X 10.15.7</td>\n",
       "      <td>inconnu</td>\n",
       "      <td>264324530</td>\n",
       "      <td>252.079515</td>\n",
       "      <td>58930246</td>\n",
       "      <td>...</td>\n",
       "      <td>1</td>\n",
       "      <td>Opérationnel</td>\n",
       "      <td>2024-02-16</td>\n",
       "      <td>12:56:00</td>\n",
       "      <td>2024-02-16</td>\n",
       "      <td>13:44:00</td>\n",
       "      <td>1</td>\n",
       "      <td>Arrondissement 004</td>\n",
       "      <td>68.05</td>\n",
       "      <td>28071</td>\n",
       "    </tr>\n",
       "    <tr>\n",
       "      <th>3</th>\n",
       "      <td>PW0189</td>\n",
       "      <td>475</td>\n",
       "      <td>7.92</td>\n",
       "      <td>Mobile</td>\n",
       "      <td>Apple</td>\n",
       "      <td>iOS 17.3.1</td>\n",
       "      <td>Safari unknown</td>\n",
       "      <td>604735</td>\n",
       "      <td>0.576720</td>\n",
       "      <td>249512</td>\n",
       "      <td>...</td>\n",
       "      <td>3</td>\n",
       "      <td>Opérationnel</td>\n",
       "      <td>2024-05-08</td>\n",
       "      <td>12:31:00</td>\n",
       "      <td>2024-05-08</td>\n",
       "      <td>12:39:00</td>\n",
       "      <td>1</td>\n",
       "      <td>Arrondissement 007</td>\n",
       "      <td>14.60</td>\n",
       "      <td>1081</td>\n",
       "    </tr>\n",
       "    <tr>\n",
       "      <th>4</th>\n",
       "      <td>PW0196</td>\n",
       "      <td>1407</td>\n",
       "      <td>23.45</td>\n",
       "      <td>Mobile</td>\n",
       "      <td>autre</td>\n",
       "      <td>inconnu</td>\n",
       "      <td>Chrome 105.0</td>\n",
       "      <td>16409914</td>\n",
       "      <td>15.649714</td>\n",
       "      <td>25333951</td>\n",
       "      <td>...</td>\n",
       "      <td>2</td>\n",
       "      <td>Opérationnel</td>\n",
       "      <td>2022-09-21</td>\n",
       "      <td>08:09:00</td>\n",
       "      <td>2022-09-21</td>\n",
       "      <td>08:33:00</td>\n",
       "      <td>1</td>\n",
       "      <td>Arrondissement 008</td>\n",
       "      <td>21.24</td>\n",
       "      <td>500</td>\n",
       "    </tr>\n",
       "    <tr>\n",
       "      <th>...</th>\n",
       "      <td>...</td>\n",
       "      <td>...</td>\n",
       "      <td>...</td>\n",
       "      <td>...</td>\n",
       "      <td>...</td>\n",
       "      <td>...</td>\n",
       "      <td>...</td>\n",
       "      <td>...</td>\n",
       "      <td>...</td>\n",
       "      <td>...</td>\n",
       "      <td>...</td>\n",
       "      <td>...</td>\n",
       "      <td>...</td>\n",
       "      <td>...</td>\n",
       "      <td>...</td>\n",
       "      <td>...</td>\n",
       "      <td>...</td>\n",
       "      <td>...</td>\n",
       "      <td>...</td>\n",
       "      <td>...</td>\n",
       "      <td>...</td>\n",
       "    </tr>\n",
       "    <tr>\n",
       "      <th>299995</th>\n",
       "      <td>PW0014</td>\n",
       "      <td>7235</td>\n",
       "      <td>120.58</td>\n",
       "      <td>Ordinateur</td>\n",
       "      <td>autre</td>\n",
       "      <td>Linux unknown</td>\n",
       "      <td>Firefox 106.0</td>\n",
       "      <td>87329414</td>\n",
       "      <td>83.283819</td>\n",
       "      <td>5954266</td>\n",
       "      <td>...</td>\n",
       "      <td>8</td>\n",
       "      <td>Opérationnel</td>\n",
       "      <td>2022-11-19</td>\n",
       "      <td>11:38:00</td>\n",
       "      <td>2022-11-19</td>\n",
       "      <td>13:38:00</td>\n",
       "      <td>1</td>\n",
       "      <td>Arrondissement 015</td>\n",
       "      <td>38.80</td>\n",
       "      <td>321</td>\n",
       "    </tr>\n",
       "    <tr>\n",
       "      <th>299996</th>\n",
       "      <td>PW0103-1</td>\n",
       "      <td>3161</td>\n",
       "      <td>52.68</td>\n",
       "      <td>Mobile</td>\n",
       "      <td>autre</td>\n",
       "      <td>inconnu</td>\n",
       "      <td>Chrome 112.0</td>\n",
       "      <td>43538950</td>\n",
       "      <td>41.521978</td>\n",
       "      <td>3664936</td>\n",
       "      <td>...</td>\n",
       "      <td>2</td>\n",
       "      <td>Opérationnel</td>\n",
       "      <td>2023-05-07</td>\n",
       "      <td>13:48:00</td>\n",
       "      <td>2023-05-07</td>\n",
       "      <td>14:40:00</td>\n",
       "      <td>1</td>\n",
       "      <td>Arrondissement 013</td>\n",
       "      <td>41.50</td>\n",
       "      <td>774</td>\n",
       "    </tr>\n",
       "    <tr>\n",
       "      <th>299997</th>\n",
       "      <td>PW0255</td>\n",
       "      <td>620</td>\n",
       "      <td>10.33</td>\n",
       "      <td>Mobile</td>\n",
       "      <td>Apple</td>\n",
       "      <td>iOS 17.3.1</td>\n",
       "      <td>Safari unknown</td>\n",
       "      <td>15150825</td>\n",
       "      <td>14.448953</td>\n",
       "      <td>3840978</td>\n",
       "      <td>...</td>\n",
       "      <td>5</td>\n",
       "      <td>En déploiement</td>\n",
       "      <td>2024-04-02</td>\n",
       "      <td>12:31:00</td>\n",
       "      <td>2024-04-02</td>\n",
       "      <td>12:42:00</td>\n",
       "      <td>1</td>\n",
       "      <td>Arrondissement 004</td>\n",
       "      <td>25.60</td>\n",
       "      <td>118</td>\n",
       "    </tr>\n",
       "    <tr>\n",
       "      <th>299998</th>\n",
       "      <td>PW0112</td>\n",
       "      <td>1579</td>\n",
       "      <td>26.32</td>\n",
       "      <td>Mobile</td>\n",
       "      <td>HUAWEI</td>\n",
       "      <td>inconnu</td>\n",
       "      <td>Chrome 107.0</td>\n",
       "      <td>8866863</td>\n",
       "      <td>8.456100</td>\n",
       "      <td>264804</td>\n",
       "      <td>...</td>\n",
       "      <td>1</td>\n",
       "      <td>Opérationnel</td>\n",
       "      <td>2022-11-15</td>\n",
       "      <td>14:39:00</td>\n",
       "      <td>2022-11-15</td>\n",
       "      <td>15:05:00</td>\n",
       "      <td>1</td>\n",
       "      <td>Arrondissement 001</td>\n",
       "      <td>63.95</td>\n",
       "      <td>14051</td>\n",
       "    </tr>\n",
       "    <tr>\n",
       "      <th>299999</th>\n",
       "      <td>PW0241</td>\n",
       "      <td>1274</td>\n",
       "      <td>21.23</td>\n",
       "      <td>Ordinateur</td>\n",
       "      <td>autre</td>\n",
       "      <td>Windows 10</td>\n",
       "      <td>Firefox 78.0</td>\n",
       "      <td>5053108</td>\n",
       "      <td>4.819019</td>\n",
       "      <td>4078311</td>\n",
       "      <td>...</td>\n",
       "      <td>14</td>\n",
       "      <td>Opérationnel</td>\n",
       "      <td>2022-02-07</td>\n",
       "      <td>14:58:00</td>\n",
       "      <td>2022-02-07</td>\n",
       "      <td>15:19:00</td>\n",
       "      <td>1</td>\n",
       "      <td>Arrondissement 015</td>\n",
       "      <td>42.51</td>\n",
       "      <td>99</td>\n",
       "    </tr>\n",
       "  </tbody>\n",
       "</table>\n",
       "<p>288008 rows × 29 columns</p>\n",
       "</div>"
      ],
      "text/plain": [
       "       Code Site  Temps de session en secondes  Temps de sessions en minutes  \\\n",
       "0         PW0097                          5048                         84.13   \n",
       "1         PW0015                          3972                         66.20   \n",
       "2         PW0043                          2862                         47.70   \n",
       "3         PW0189                           475                          7.92   \n",
       "4         PW0196                          1407                         23.45   \n",
       "...          ...                           ...                           ...   \n",
       "299995    PW0014                          7235                        120.58   \n",
       "299996  PW0103-1                          3161                         52.68   \n",
       "299997    PW0255                           620                         10.33   \n",
       "299998    PW0112                          1579                         26.32   \n",
       "299999    PW0241                          1274                         21.23   \n",
       "\n",
       "       Type d'appareil Constructeur appareil Version système exploitation  \\\n",
       "0               Mobile                 autre                      inconnu   \n",
       "1           Ordinateur                 autre                    Windows 7   \n",
       "2           Ordinateur                 Apple             Mac OS X 10.15.7   \n",
       "3               Mobile                 Apple                   iOS 17.3.1   \n",
       "4               Mobile                 autre                      inconnu   \n",
       "...                ...                   ...                          ...   \n",
       "299995      Ordinateur                 autre                Linux unknown   \n",
       "299996          Mobile                 autre                      inconnu   \n",
       "299997          Mobile                 Apple                   iOS 17.3.1   \n",
       "299998          Mobile                HUAWEI                      inconnu   \n",
       "299999      Ordinateur                 autre                   Windows 10   \n",
       "\n",
       "       Version navigateur  Donnée entrante (Octet)  \\\n",
       "0             Chrome 99.0                292671965   \n",
       "1             Chrome 97.0                 77868018   \n",
       "2                 inconnu                264324530   \n",
       "3          Safari unknown                   604735   \n",
       "4            Chrome 105.0                 16409914   \n",
       "...                   ...                      ...   \n",
       "299995      Firefox 106.0                 87329414   \n",
       "299996       Chrome 112.0                 43538950   \n",
       "299997     Safari unknown                 15150825   \n",
       "299998       Chrome 107.0                  8866863   \n",
       "299999       Firefox 78.0                  5053108   \n",
       "\n",
       "        Donnée entrante (MégaOctet)  Donnée sortante (Octet)  ...  \\\n",
       "0                        279.113736                 12575179  ...   \n",
       "1                         74.260729                  8067189  ...   \n",
       "2                        252.079515                 58930246  ...   \n",
       "3                          0.576720                   249512  ...   \n",
       "4                         15.649714                 25333951  ...   \n",
       "...                             ...                      ...  ...   \n",
       "299995                    83.283819                  5954266  ...   \n",
       "299996                    41.521978                  3664936  ...   \n",
       "299997                    14.448953                  3840978  ...   \n",
       "299998                     8.456100                   264804  ...   \n",
       "299999                     4.819019                  4078311  ...   \n",
       "\n",
       "        Nombre de bornes    Etat du site  Date_début Heure_début    Date_fin  \\\n",
       "0                      3    Opérationnel  2022-04-08    20:36:00  2022-04-08   \n",
       "1                      1    Opérationnel  2022-02-25    13:41:00  2022-02-25   \n",
       "2                      1    Opérationnel  2024-02-16    12:56:00  2024-02-16   \n",
       "3                      3    Opérationnel  2024-05-08    12:31:00  2024-05-08   \n",
       "4                      2    Opérationnel  2022-09-21    08:09:00  2022-09-21   \n",
       "...                  ...             ...         ...         ...         ...   \n",
       "299995                 8    Opérationnel  2022-11-19    11:38:00  2022-11-19   \n",
       "299996                 2    Opérationnel  2023-05-07    13:48:00  2023-05-07   \n",
       "299997                 5  En déploiement  2024-04-02    12:31:00  2024-04-02   \n",
       "299998                 1    Opérationnel  2022-11-15    14:39:00  2022-11-15   \n",
       "299999                14    Opérationnel  2022-02-07    14:58:00  2022-02-07   \n",
       "\n",
       "       Heure_fin Nombre de connexions Pénétration Géographique  \\\n",
       "0       22:00:00                    1       Arrondissement 010   \n",
       "1       14:47:00                    1       Arrondissement 016   \n",
       "2       13:44:00                    1       Arrondissement 004   \n",
       "3       12:39:00                    1       Arrondissement 007   \n",
       "4       08:33:00                    1       Arrondissement 008   \n",
       "...          ...                  ...                      ...   \n",
       "299995  13:38:00                    1       Arrondissement 015   \n",
       "299996  14:40:00                    1       Arrondissement 013   \n",
       "299997  12:42:00                    1       Arrondissement 004   \n",
       "299998  15:05:00                    1       Arrondissement 001   \n",
       "299999  15:19:00                    1       Arrondissement 015   \n",
       "\n",
       "        Durée Moyenne par Site (minutes)  Taux d’utilisation par site (%)  \n",
       "0                                  57.31                             1398  \n",
       "1                                  23.14                              140  \n",
       "2                                  68.05                            28071  \n",
       "3                                  14.60                             1081  \n",
       "4                                  21.24                              500  \n",
       "...                                  ...                              ...  \n",
       "299995                             38.80                              321  \n",
       "299996                             41.50                              774  \n",
       "299997                             25.60                              118  \n",
       "299998                             63.95                            14051  \n",
       "299999                             42.51                               99  \n",
       "\n",
       "[288008 rows x 29 columns]"
      ]
     },
     "metadata": {},
     "output_type": "display_data"
    }
   ],
   "source": [
    "# ----- Création de la colonne \"Nombre de connexions\" -----\n",
    "wifi_usage_data[\"Nombre de connexions\"] = 1\n",
    "\n",
    "# ------ Fonction pour créer la colonne 'Pénétration Géographique' ------\n",
    "def assign_penetration_geo(code_postal):\n",
    "    code_postal = str(code_postal)  # On convertit en chaîne\n",
    "    if code_postal.startswith(\"75\"):\n",
    "        return f\"Arrondissement {code_postal[2:]}\"  # On extrait les deux derniers chiffres pour l'arrondissement\n",
    "    elif code_postal == \"92100\":\n",
    "        return \"Boulogne-Billancourt\"  # Code spécifique pour Boulogne-Billancourt\n",
    "    else:\n",
    "        return \"Autres zones\"\n",
    "\n",
    "wifi_usage_data[\"Pénétration Géographique\"] = wifi_usage_data[\"Code Postal\"].apply(assign_penetration_geo)\n",
    "\n",
    "# ----- Calcul de la durée moyenne des sessions par site -----\n",
    "wifi_usage_data[\"Durée Moyenne par Site (minutes)\"] = (\n",
    "    wifi_usage_data.groupby(\"Nom du Site\")[\"Temps de sessions en minutes\"]\n",
    "    .transform(\"mean\")\n",
    "    .round(2)\n",
    ")\n",
    "\n",
    "# ----- Suppression de la colonne \"Taux d’utilisation par site (%)\" si elle existe déjà -----\n",
    "if \"Taux d’utilisation par site (%)\" in wifi_usage_data.columns:\n",
    "    wifi_usage_data.drop(columns=[\"Taux d’utilisation par site (%)\"], inplace=True)\n",
    "\n",
    "# ----- Calcul du taux d’utilisation par site -----\n",
    "total_connexion_duree = wifi_usage_data.groupby(\"Nom du Site\")[\"Temps de sessions en minutes\"].transform(\"sum\")\n",
    "wifi_usage_data[\"Taux d’utilisation par site (%)\"] = (\n",
    "    (total_connexion_duree / (wifi_usage_data[\"Nombre de bornes\"] * 1440)) * 100\n",
    ").round(0).astype(int)\n",
    "\n",
    "# ----- Vérification finale -----\n",
    "print(\"\\nAffichage complet du DataFrame avec les nouvelles colonnes sans duplication :\")\n",
    "display(wifi_usage_data)\n"
   ]
  },
  {
   "cell_type": "markdown",
   "id": "4487dc9f-8936-4bbb-8430-2b64037f14f8",
   "metadata": {},
   "source": [
    "## <p style=\"text-align: center;\"><b>Visualisations  📊 </b></p>"
   ]
  },
  {
   "cell_type": "markdown",
   "id": "7840a6e3",
   "metadata": {},
   "source": [
    "Ces graphiques analysent les connexions Wi-Fi publiques : \n",
    "\n",
    "- **Répartition des connexions par arrondissement**  \n",
    "- **Heatmap temporel des connexions (par jour et heure)**  \n",
    "- **Volume moyen de données échangées par type d'appareil**  \n",
    "- **Carte interactive des bornes Wi-Fi avec volume de connexions**  \n",
    "- **Nombre de connexions par langue d'utilisateur**  \n",
    "\n",
    "Ils permettent d'explorer les tendances géographiques, temporelles et comportementales des utilisateurs."
   ]
  },
  {
   "cell_type": "markdown",
   "id": "5be89595-4175-4e6c-a315-959ab182adcd",
   "metadata": {},
   "source": [
    "### Importations : "
   ]
  },
  {
   "cell_type": "code",
   "execution_count": 7,
   "id": "e2e91709-1f19-4d27-8b86-b4b25f49a08e",
   "metadata": {},
   "outputs": [],
   "source": [
    "import matplotlib.pyplot as plt\n",
    "import seaborn as sns\n",
    "import plotly.express as px\n",
    "import plotly.graph_objects as go"
   ]
  },
  {
   "cell_type": "markdown",
   "id": "f8eaca9a-7a59-42c1-914b-6b7c859bdb0f",
   "metadata": {},
   "source": [
    "### Répartition des connexions par arrondissement :"
   ]
  },
  {
   "cell_type": "markdown",
   "id": "523a13e5-a20e-48d2-bba4-9f1572a5b2ee",
   "metadata": {},
   "source": [
    "Ce graphique montre la répartition des connexions Wi-Fi par arrondissement, avec le nombre total de connexions indiqué au-dessus de chaque barre. Il met en évidence les zones les plus connectées, utiles pour optimiser l'infrastructure Wi-Fi."
   ]
  },
  {
   "cell_type": "code",
   "execution_count": 8,
   "id": "c1c5a49b-7c38-471f-8f50-bdd2518d2782",
   "metadata": {},
   "outputs": [
    {
     "data": {
      "image/png": "[encoded data removed]",
      "text/plain": [
       "<Figure size 1200x800 with 1 Axes>"
      ]
     },
     "metadata": {},
     "output_type": "display_data"
    }
   ],
   "source": [
    "connexions_par_arrondissement = (   \n",
    "    wifi_usage_data.groupby(\"Pénétration Géographique\")[\"Nombre de connexions\"]\n",
    "    .sum()\n",
    "    .reset_index()\n",
    "    .rename(columns={\"Nombre de connexions\": \"Total des connexions\"})   #On va totaliser les nombres de connexion\n",
    ")\n",
    "\n",
    "#-------- On trie les arrondissements par total des connexions---#\n",
    "\n",
    "connexions_par_arrondissement = connexions_par_arrondissement.sort_values(by=\"Total des connexions\", ascending=False)\n",
    "\n",
    "\n",
    "plt.figure(figsize=(12, 8))\n",
    "bars = plt.bar(\n",
    "    connexions_par_arrondissement[\"Pénétration Géographique\"],\n",
    "    connexions_par_arrondissement[\"Total des connexions\"],\n",
    "    color=\"rosybrown\",\n",
    "    edgecolor=\"black\"\n",
    ")\n",
    "\n",
    "\n",
    "for bar in bars:\n",
    "    height = bar.get_height()              # On ajoute les valeurs au-dessus des barres\n",
    "    plt.text(bar.get_x() + bar.get_width() / 2, height + 50, f\"{int(height)}\", ha=\"center\", va=\"bottom\")\n",
    "\n",
    "# ------ Titres + étiquettes----#\n",
    "\n",
    "plt.title(\"Répartition des connexions par arrondissement\", fontsize=16)\n",
    "plt.xlabel(\"Pénétration Géographique\", fontsize=14)\n",
    "plt.ylabel(\"Nombre de connexions\", fontsize=14)\n",
    "plt.xticks(rotation=45, ha=\"right\")\n",
    "plt.tight_layout()\n",
    "\n",
    "\n",
    "plt.show()\n"
   ]
  },
  {
   "cell_type": "markdown",
   "id": "771c2eeb-c5a2-411f-a2e6-76ec38f62d95",
   "metadata": {},
   "source": [
    "### Heatmap temporel des connexions (par jour et heure) :"
   ]
  },
  {
   "cell_type": "markdown",
   "id": "42d1182e-b169-4564-b4de-1cbba7c00737",
   "metadata": {},
   "source": [
    "Ce graphique est une heatmap temporelle qui illustre le nombre de connexions Wi-Fi en fonction des jours de la semaine et des heures de la journée. Les couleurs varient selon l'intensité des connexions, permettant d'identifier facilement les périodes de forte ou faible activité."
   ]
  },
  {
   "cell_type": "code",
   "execution_count": 9,
   "id": "25069ff5-672d-43f3-8c73-7d773b5933e8",
   "metadata": {},
   "outputs": [
    {
     "data": {
      "image/png": "[encoded data removed]",
      "text/plain": [
       "<Figure size 1200x800 with 2 Axes>"
      ]
     },
     "metadata": {},
     "output_type": "display_data"
    }
   ],
   "source": [
    "\n",
    "# ---- On créer une colonne \"Jour\" basée sur \"Date_début\"--#\n",
    "\n",
    "wifi_usage_data[\"Jour\"] = pd.to_datetime(wifi_usage_data[\"Date_début\"], errors=\"coerce\").dt.weekday\n",
    "\n",
    "# ---- Jours en français--#\n",
    "\n",
    "jours_semaine = {\n",
    "    0: \"lundi\", 1: \"mardi\", 2: \"mercredi\", 3: \"jeudi\", 4: \"vendredi\", 5: \"samedi\", 6: \"dimanche\"\n",
    "}\n",
    "\n",
    "wifi_usage_data[\"Jour\"] = wifi_usage_data[\"Jour\"].map(jours_semaine)\n",
    "\n",
    "#-----On extrait l'heure au format numérique pour simplifier le regroupement---#\n",
    "\n",
    "wifi_usage_data[\"Heure\"] = pd.to_datetime(wifi_usage_data[\"Heure_début\"], format=\"%H:%M:%S\", errors=\"coerce\").dt.hour\n",
    "\n",
    "#---- On compte connexion/jour et connexion/heure---#\n",
    "\n",
    "heatmap_data = wifi_usage_data.groupby([\"Jour\", \"Heure\"]).size().unstack(fill_value=0)\n",
    "\n",
    "#------ Réorganisation---#\n",
    "\n",
    "heatmap_data = heatmap_data.loc[[\"lundi\", \"mardi\", \"mercredi\", \"jeudi\", \"vendredi\", \"samedi\", \"dimanche\"]]\n",
    "\n",
    "#----Heatmap---#\n",
    "\n",
    "plt.figure(figsize=(12, 8))\n",
    "sns.heatmap(\n",
    "    heatmap_data,\n",
    "    cmap=\"YlGnBu\",\n",
    "    annot=True,\n",
    "    fmt=\"d\",\n",
    "    cbar_kws={\"label\": \"Nombre de connexions\"}\n",
    ")\n",
    "\n",
    "#------Labels + Titre---#\n",
    "\n",
    "plt.title(\"Heatmap temporel des connexions (par jour et heure)\", fontsize=16)\n",
    "plt.xlabel(\"Heure de la journée\")\n",
    "plt.ylabel(\"Jour de la semaine\")\n",
    "plt.tight_layout()\n",
    "plt.show()\n"
   ]
  },
  {
   "cell_type": "markdown",
   "id": "e1df71cf-8080-449b-ad8a-ba70d2e54053",
   "metadata": {},
   "source": [
    "### Volume moyen de données échangées par type d'appareil :"
   ]
  },
  {
   "cell_type": "markdown",
   "id": "400da8d3-3d46-43ac-9ee8-dd21c2e5c81f",
   "metadata": {},
   "source": [
    "Ce graphique à barres empilées montre le **volume moyen de données échangées (entrant et sortant)** par type d'appareil. Les barres bleues représentent les **données téléchargées (entrantes)**, tandis que les barres orange illustrent les **données envoyées (sortantes)**. Les valeurs numériques sont ajoutées directement sur les barres pour une lecture précise, facilitant la comparaison entre différents appareils."
   ]
  },
  {
   "cell_type": "code",
   "execution_count": 10,
   "id": "03ad1593-e1b5-430a-a398-10b3d09ed935",
   "metadata": {},
   "outputs": [
    {
     "data": {
      "image/png": "[encoded data removed]",
      "text/plain": [
       "<Figure size 2000x1000 with 1 Axes>"
      ]
     },
     "metadata": {},
     "output_type": "display_data"
    }
   ],
   "source": [
    "#------ Calcul des volumes moyens de données par appareil--#\n",
    "\n",
    "data_volume = wifi_usage_data.groupby(\"Type d'appareil\")[[\"Donnée entrante (MégaOctet)\", \"Donnée sortante (MégaOctet)\"]].mean()\n",
    "\n",
    "\n",
    "ax = data_volume.plot(\n",
    "    kind=\"bar\",\n",
    "    figsize=(20, 10),\n",
    "    stacked=True,\n",
    "    color=[\"steelblue\", \"orange\"]\n",
    ")\n",
    "\n",
    "#------- Titres ------#\n",
    "\n",
    "plt.title(\"Volume moyen de données échangées par type d'appareil\", fontsize=20, weight=\"bold\")\n",
    "plt.xlabel(\"Type d'appareil\", fontsize=16, weight=\"bold\")\n",
    "plt.ylabel(\"Volume moyen (MégaOctet)\", fontsize=16, weight=\"bold\")\n",
    "plt.xticks(rotation=45, ha=\"right\", fontsize=14)\n",
    "plt.yticks(fontsize=14)\n",
    "plt.legend(\n",
    "    [\"Données entrantes (Téléchargées)\", \"Données sortantes (Envoyées)\"], \n",
    "    title=\"Type de données\", \n",
    "    fontsize=14, \n",
    "    title_fontsize=16\n",
    ")\n",
    "\n",
    "#----  Ajout des valeurs pour chaque barre----#\n",
    "\n",
    "for i, bars in enumerate(ax.containers):\n",
    "    for bar in bars:\n",
    "        x = bar.get_x() + bar.get_width() / 2      # Position horizontale\n",
    "        y = bar.get_height()        # Hauteur de la barre\n",
    "        if y > 0:        # Si la hauteur est positive\n",
    "            if i == 0:  # Barres bleues (données entrantes)\n",
    "                ax.text(\n",
    "                    x, \n",
    "                    bar.get_y() + y / 2,  # Garder la position initiale\n",
    "                    f\"{y:.1f}\", \n",
    "                    ha=\"center\", \n",
    "                    va=\"center\", \n",
    "                    fontsize=12, \n",
    "                    weight=\"bold\", \n",
    "                    color=\"white\"\n",
    "                )\n",
    "            elif i == 1:  # Barres orange (données sortantes)\n",
    "                ax.text(\n",
    "                    x, \n",
    "                    bar.get_y() + bar.get_height(),  # Position au-dessus de la barre\n",
    "                    f\"{y:.1f}\", \n",
    "                    ha=\"center\", \n",
    "                    va=\"bottom\", \n",
    "                    fontsize=12, \n",
    "                    weight=\"bold\", \n",
    "                    color=\"black\"\n",
    "                )\n",
    "\n",
    "plt.tight_layout()\n",
    "plt.show()\n"
   ]
  },
  {
   "cell_type": "markdown",
   "id": "a055bf5b-98ef-4957-b654-e576be9864dc",
   "metadata": {},
   "source": [
    "### Carte interactive des bornes Wi-Fi avec volume de connexions :"
   ]
  },
  {
   "cell_type": "markdown",
   "id": "7cf713c9-5009-4bf6-b20c-bfc2c3e642eb",
   "metadata": {},
   "source": [
    "Ce graphique est une **carte interactive** qui représente les bornes Wi-Fi en fonction de leur **localisation géographique** (latitude et longitude). Les bulles indiquent le **nombre total de connexions** par emplacement : leur **taille** et leur **couleur** reflètent l'intensité des connexions. Cela permet d'identifier facilement les zones les plus actives en termes de connexions Wi-Fi."
   ]
  },
  {
   "cell_type": "code",
   "execution_count": 11,
   "id": "5c0e8456-51e6-47a4-adc0-37a68482b130",
   "metadata": {},
   "outputs": [
    {
     "data": {
      "application/vnd.plotly.v1+json": {
       "config": {
        "plotlyServerURL": "https://plot.ly"
       },
       "data": [
        {
         "hovertemplate": "Nombre de connexions=%{marker.color}<br>Latitude=%{lat}<br>Longitude=%{lon}<extra></extra>",
         "lat": [
          48.819334380975064,
          48.819334380975064,
          48.81939645595855,
          48.81939645595856,
          48.81983056005852,
          48.820237188844665,
          48.820237188844665,
          48.82049066987802,
          48.82049066987803,
          48.82090327022333,
          48.82090327022334,
          48.82159345390935,
          48.82159345390936,
          48.822331067615,
          48.822633345220225,
          48.82263334522024,
          48.823043579724974,
          48.82304357972498,
          48.824367644891204,
          48.82436764489121,
          48.82451919846644,
          48.82451919846646,
          48.825685501127516,
          48.82568550112752,
          48.82663359274809,
          48.82663359274811,
          48.82678697107449,
          48.8267869710745,
          48.82716090943827,
          48.82716090943828,
          48.827318054189206,
          48.82731805418922,
          48.82775099396245,
          48.82780123635454,
          48.82803317409269,
          48.828033174092695,
          48.82818582306962,
          48.828185823069624,
          48.830418305303915,
          48.83078680904554,
          48.830786809045556,
          48.830919043595564,
          48.83091904359557,
          48.83123124818045,
          48.83123124818045,
          48.83129620230284,
          48.83129620230284,
          48.83183217258377,
          48.83183217258378,
          48.83191582844802,
          48.83191582844804,
          48.832155230735985,
          48.83215523073599,
          48.83216486752819,
          48.8321648675282,
          48.83220679997316,
          48.832206799973164,
          48.83231441086374,
          48.83231441086375,
          48.83241898581483,
          48.83241898581484,
          48.83252306871405,
          48.83252306871408,
          48.83256937742215,
          48.83256937742215,
          48.8328511609528,
          48.832851160952806,
          48.832881073674926,
          48.832964670678884,
          48.832964670678884,
          48.83299727958771,
          48.832997279587715,
          48.833070643227764,
          48.83307064322777,
          48.83317032166053,
          48.833170321660546,
          48.833753192432994,
          48.833753192433,
          48.833766609696085,
          48.8337666096961,
          48.83379546023932,
          48.833795460239344,
          48.83384615455623,
          48.833990634788535,
          48.83423188051034,
          48.834231880510345,
          48.834649048099344,
          48.83464904809935,
          48.83507864071957,
          48.83507864071959,
          48.83549894578003,
          48.83549894578003,
          48.8355916799591,
          48.8355916799591,
          48.836091766026286,
          48.83609176602629,
          48.8368069210248,
          48.83680692102482,
          48.83681071348854,
          48.836810713488546,
          48.83759553433298,
          48.838002529065406,
          48.83800252906541,
          48.838280307264014,
          48.83828030726402,
          48.83839921606968,
          48.83839921606968,
          48.839306988804566,
          48.83930698880458,
          48.839812146077996,
          48.839812146078,
          48.840125544936114,
          48.840125544936114,
          48.84020760641955,
          48.84020760641956,
          48.84048781257586,
          48.84048781257587,
          48.84110407848002,
          48.841104078480036,
          48.84138856611185,
          48.841388566111874,
          48.841515749400145,
          48.841515749400145,
          48.84170547884535,
          48.84170547884535,
          48.84170750668818,
          48.84170750668819,
          48.84208223736807,
          48.84208223736807,
          48.84214721269366,
          48.842147212693675,
          48.842310116893366,
          48.84249352852193,
          48.84249352852194,
          48.84251862032188,
          48.84254112148939,
          48.842546608019944,
          48.84254660801995,
          48.843088368029136,
          48.84308836802916,
          48.843268180495784,
          48.84326818049579,
          48.843865692875596,
          48.8438656928756,
          48.84467620670815,
          48.84467620670816,
          48.845112192168884,
          48.8451121921689,
          48.84552915718271,
          48.84552915718272,
          48.84557161745619,
          48.8455716174562,
          48.84596671657269,
          48.8459667165727,
          48.84619170895861,
          48.846191708958614,
          48.84643022998531,
          48.84647564555833,
          48.846475645558336,
          48.84717244252812,
          48.84718308901555,
          48.848084907658944,
          48.84808490765895,
          48.8481097373342,
          48.848109737334205,
          48.8492339971869,
          48.84923399718691,
          48.84974131047438,
          48.850536526897756,
          48.85053652689776,
          48.851242609525265,
          48.851242609525265,
          48.851595552840706,
          48.85159555284071,
          48.85190101045929,
          48.85190101045929,
          48.85209002148713,
          48.852312152208874,
          48.8523533398358,
          48.85235333983582,
          48.85240661248836,
          48.852406612488366,
          48.853295546389774,
          48.85329554638978,
          48.853423533989464,
          48.85342353398947,
          48.85360667271708,
          48.85360667271708,
          48.854610122522914,
          48.85461012252293,
          48.854710505471026,
          48.85471050547104,
          48.85477276860284,
          48.85477276860285,
          48.85524049982195,
          48.85524049982196,
          48.85539359756073,
          48.855393597560735,
          48.85559193673261,
          48.855591936732615,
          48.855630783910044,
          48.8558319847793,
          48.855871412200436,
          48.85587141220044,
          48.85602609046494,
          48.856026090464944,
          48.85608287395022,
          48.85608287395023,
          48.85613837361523,
          48.85613837361524,
          48.856221957138,
          48.85627160786783,
          48.856271607867846,
          48.856319313937796,
          48.8563193139378,
          48.856328013556855,
          48.85632801355686,
          48.85638968298792,
          48.85638968298792,
          48.85660341812766,
          48.85660341812767,
          48.85668757090017,
          48.856687570900185,
          48.8567504744646,
          48.856750474464604,
          48.856763442143226,
          48.856763442143226,
          48.85686647665855,
          48.85686647665855,
          48.85686653543352,
          48.85686653543353,
          48.85697941031564,
          48.85705185006894,
          48.857051850068956,
          48.857065427924205,
          48.857065427924205,
          48.8570974891207,
          48.85727328251876,
          48.85742785373788,
          48.857512783868636,
          48.85754315834628,
          48.85754315834629,
          48.85804072427662,
          48.85806889772534,
          48.85806889772535,
          48.85807993154853,
          48.85815259404038,
          48.85815259404039,
          48.85817283984132,
          48.85817283984133,
          48.85818974233775,
          48.858261325151034,
          48.85826132515104,
          48.858399619901874,
          48.85904965674071,
          48.859124367471004,
          48.85919821308154,
          48.85919821308155,
          48.85932482275742,
          48.859324822757436,
          48.85937332543367,
          48.85937332543368,
          48.8595702097367,
          48.85957020973672,
          48.85983876871812,
          48.85983876871813,
          48.86008352657211,
          48.860083526572126,
          48.86009629404828,
          48.86009629404829,
          48.860512794097644,
          48.86067412777187,
          48.86067412777188,
          48.8609372146897,
          48.86108519335692,
          48.86108519335692,
          48.86114845894017,
          48.861265925542334,
          48.86126592554234,
          48.861416641848194,
          48.861469422154464,
          48.86146942215447,
          48.86148891058231,
          48.86148891058232,
          48.86181948548021,
          48.86181948548023,
          48.8618363825724,
          48.86183638257241,
          48.86188336150229,
          48.8618833615023,
          48.86207328848182,
          48.86221123845906,
          48.862650133028886,
          48.862650133028886,
          48.86270432644073,
          48.86270432644075,
          48.86296417505911,
          48.86296417505912,
          48.86376892355013,
          48.86376892355014,
          48.86394077019891,
          48.86394077019892,
          48.8639920263,
          48.863992026300004,
          48.86402504205692,
          48.86402504205693,
          48.864710182344766,
          48.864908624429034,
          48.8650814049341,
          48.86508140493411,
          48.865091139066706,
          48.865091139066706,
          48.86514825320897,
          48.86528730587914,
          48.86528730587915,
          48.865911786560694,
          48.86591178656071,
          48.865961582375775,
          48.86596158237579,
          48.8660165781331,
          48.86601657813311,
          48.86608193950941,
          48.866081939509414,
          48.866507580054055,
          48.866507580054055,
          48.86656834849909,
          48.86683452754676,
          48.86752280679386,
          48.86752280679387,
          48.86910541253626,
          48.86910541253627,
          48.86940599989269,
          48.869405999892706,
          48.86989268070317,
          48.869892680703174,
          48.870162555019036,
          48.87030887663179,
          48.8703088766318,
          48.87059046386752,
          48.870590463867536,
          48.87148306478329,
          48.8714830647833,
          48.87160514880642,
          48.871784511903044,
          48.87178451190305,
          48.871953372804484,
          48.8719533728045,
          48.8720261057821,
          48.87202610578211,
          48.87259160236116,
          48.872591602361176,
          48.87320402026158,
          48.87320402026159,
          48.87339027391681,
          48.87402650073301,
          48.874026500733024,
          48.87449882830306,
          48.874498828303075,
          48.87536457154314,
          48.87536457154315,
          48.875429870811345,
          48.87542987081136,
          48.875453940691216,
          48.87545394069122,
          48.87602928391506,
          48.87602928391507,
          48.876268783142606,
          48.87626878314261,
          48.87647305121453,
          48.87659566954102,
          48.87659566954102,
          48.876807032279444,
          48.87680703227946,
          48.87690165728508,
          48.876901657285096,
          48.877205434154426,
          48.87720543415444,
          48.877430616544906,
          48.877430616544906,
          48.8777513840169,
          48.87775138401691,
          48.87790680084419,
          48.8779068008442,
          48.8779490325857,
          48.87796726487002,
          48.87796726487003,
          48.87803821682543,
          48.87803821682544,
          48.87883863164687,
          48.878838631646886,
          48.87936484092136,
          48.87936484092137,
          48.87968174681816,
          48.879681746818164,
          48.87994077004261,
          48.87994077004261,
          48.8801112154069,
          48.88026234072968,
          48.880262340729686,
          48.880406153498065,
          48.880406153498086,
          48.8809377749593,
          48.880937774959314,
          48.88094098309761,
          48.88094098309762,
          48.88097813417974,
          48.88097813417975,
          48.8811113359397,
          48.881111335939714,
          48.88178411021711,
          48.88178411021711,
          48.88231742995314,
          48.88231742995315,
          48.88279406334443,
          48.88279457828254,
          48.88279457828256,
          48.88446312981792,
          48.88446312981792,
          48.88449376861103,
          48.88449376861104,
          48.88475451404929,
          48.88475451404929,
          48.8848820163643,
          48.88488201636432,
          48.885013626409254,
          48.88501362640926,
          48.88527540480052,
          48.88527540480053,
          48.885833654570234,
          48.88583365457024,
          48.886450569436604,
          48.88645056943661,
          48.88676697087046,
          48.88676697087047,
          48.887286841813356,
          48.88752363166016,
          48.888394359208995,
          48.888394359209,
          48.889594797247035,
          48.88959479724705,
          48.88978333501901,
          48.889783335019025,
          48.889900397604244,
          48.890069083043585,
          48.890069083043606,
          48.890106154134955,
          48.89010615413496,
          48.89153632102746,
          48.891536321027466,
          48.8919537187792,
          48.891953718779206,
          48.89230355785121,
          48.89230355785122,
          48.89276109370963,
          48.89276109370963,
          48.89300517697759,
          48.893005176977596,
          48.89464799028464,
          48.8949645929562,
          48.8949645929562,
          48.89503066621167,
          48.89503066621169,
          48.895768234519906,
          48.89576823451991,
          48.89635773480956,
          48.89635773480957,
          48.898295887695575,
          48.89875981393056,
          48.89875981393057,
          48.89948663873551,
          48.89968592616539,
          48.899685926165404,
          48.899696926250854,
          48.89969692625086,
          48.9003798743325,
          48.90037987433251
         ],
         "legendgroup": "",
         "lon": [
          2.3467016527330187,
          2.346701652733019,
          2.3483816487117286,
          2.348381648711728,
          2.3477547551079145,
          2.368125151306786,
          2.3681251513067862,
          2.367308749603463,
          2.3673087496034624,
          2.368446174308279,
          2.3684461743082785,
          2.323034982175869,
          2.323034982175869,
          2.329491797866467,
          2.361318112511235,
          2.361318112511235,
          2.3487751245987027,
          2.3487751245987023,
          2.3398255642883012,
          2.3398255642883004,
          2.3398723673854613,
          2.3398723673854613,
          2.302824808848508,
          2.3028248088485075,
          2.3004174655087017,
          2.300417465508702,
          2.3664399118366863,
          2.366439911836687,
          2.3362638390068327,
          2.3362638390068335,
          2.3419937169845073,
          2.3419937169845078,
          2.35959561394622,
          2.3641346613750587,
          2.293327610769408,
          2.293327610769408,
          2.358626737402552,
          2.358626737402552,
          2.3752863240245206,
          2.3567544767297495,
          2.356754476729749,
          2.3701069536371744,
          2.3701069536371735,
          2.3116623321119385,
          2.311662332111939,
          2.32009649025955,
          2.3200964902595502,
          2.2957560957627234,
          2.295756095762724,
          2.377611889269577,
          2.377611889269577,
          2.326884536863806,
          2.326884536863806,
          2.3993343359356065,
          2.399334335935606,
          2.3474197664308325,
          2.3474197664308325,
          2.3553133492379694,
          2.3553133492379694,
          2.385483176701274,
          2.385483176701274,
          2.325814319838129,
          2.325814319838129,
          2.362043401044535,
          2.3620434010445353,
          2.3267672261372168,
          2.3267672261372168,
          2.276606159443164,
          2.276832789549165,
          2.2768327895491653,
          2.326854356949058,
          2.3268543569490587,
          2.2765763571063142,
          2.2765763571063147,
          2.366278587662253,
          2.366278587662253,
          2.366942112192092,
          2.366942112192092,
          2.325855977890741,
          2.325855977890741,
          2.332369291641684,
          2.3323692916416845,
          2.362791895302857,
          2.332014460030507,
          2.3321285183323224,
          2.3321285183323224,
          2.342222542830244,
          2.3422225428302426,
          2.3845322262404816,
          2.384532226240482,
          2.2557606933469425,
          2.255760693346943,
          2.3258213931951466,
          2.325821393195147,
          2.383252259533802,
          2.383252259533802,
          2.303480802178815,
          2.3034808021788145,
          2.3823502436999653,
          2.3823502436999653,
          2.275176007155639,
          2.410429161569747,
          2.410429161569746,
          2.319875105283683,
          2.319875105283682,
          2.3537775366667226,
          2.353777536666723,
          2.3387816734885867,
          2.338781673488587,
          2.357480751841144,
          2.357480751841144,
          2.439835247184326,
          2.4398352471843263,
          2.2787064242142545,
          2.278706424214254,
          2.3925067765318033,
          2.3925067765318033,
          2.388337487704946,
          2.3883374877049457,
          2.336705703948916,
          2.3367057039489163,
          2.2998843875842363,
          2.2998843875842367,
          2.389171441921968,
          2.3891714419219685,
          2.2993503219976077,
          2.2993503219976077,
          2.263539698646935,
          2.2635396986469356,
          2.3893977890114995,
          2.389397789011499,
          2.3172057615962056,
          2.3496737606613083,
          2.349673760661308,
          2.3896330843907885,
          2.3974768896781797,
          2.3618682435965552,
          2.361868243596555,
          2.318579339445639,
          2.3185793394456393,
          2.3334967424001003,
          2.3334967424001007,
          2.386629495395027,
          2.386629495395026,
          2.3816157676057963,
          2.3816157676057963,
          2.3542064419028152,
          2.3542064419028152,
          2.387110986075708,
          2.387110986075708,
          2.2915124728297736,
          2.291512472829773,
          2.377716139560769,
          2.3777161395607687,
          2.3445808786950564,
          2.344580878695056,
          2.351181030723315,
          2.3697055470915753,
          2.3697055470915753,
          2.369130681154877,
          2.376419516945574,
          2.34964310762926,
          2.34964310762926,
          2.3275943360813645,
          2.327594336081365,
          2.4120981583353163,
          2.412098158335316,
          2.286136743745502,
          2.33261137019337,
          2.3326113701933697,
          2.330443623016366,
          2.3304436230163663,
          2.383960070968057,
          2.383960070968057,
          2.344948218913558,
          2.3449482189135584,
          2.3902500868580323,
          2.4105606441583802,
          2.360310974496217,
          2.3603109744962167,
          2.3716454350642713,
          2.3716454350642717,
          2.4012127882676766,
          2.4012127882676766,
          2.3591792372689597,
          2.3591792372689597,
          2.348115562490514,
          2.3481155624905146,
          2.300190630733143,
          2.3001906307331423,
          2.353240934008803,
          2.3532409340088036,
          2.3661685247627213,
          2.3661685247627218,
          2.4039028856049716,
          2.4039028856049716,
          2.280717716603592,
          2.2807177166035926,
          2.389595542248922,
          2.389595542248922,
          2.365658403131317,
          2.350834661285839,
          2.382453535830384,
          2.3824535358303836,
          2.352685785891045,
          2.352685785891045,
          2.3522618590700275,
          2.3522618590700266,
          2.3559375242406873,
          2.3559375242406877,
          2.3673918201295203,
          2.355756901105179,
          2.355756901105179,
          2.3517550767309303,
          2.3517550767309303,
          2.3529017859850048,
          2.3529017859850048,
          2.35238826700578,
          2.352388267005781,
          2.393868772427969,
          2.3938687724279695,
          2.3489230003257022,
          2.3489230003257027,
          2.283836733756716,
          2.283836733756716,
          2.3526483130154228,
          2.352648313015423,
          2.3200436974356777,
          2.320043697435678,
          2.3531718232792094,
          2.35317182327921,
          2.293339063475274,
          2.352351724212448,
          2.352351724212447,
          2.361695904390477,
          2.3616959043904777,
          2.3704796611004237,
          2.3512776121492363,
          2.3470199244719736,
          2.346563042652778,
          2.362975092932358,
          2.3629750929323583,
          2.3492201014548653,
          2.3089898828141666,
          2.3089898828141666,
          2.3810034004762697,
          2.2615674823094567,
          2.2615674823094567,
          2.3614603612016776,
          2.3614603612016785,
          2.312894263966205,
          2.3583923571773995,
          2.3583923571774,
          2.2992737787183,
          2.3568727755380126,
          2.3841876330805594,
          2.411645684536093,
          2.4116456845360936,
          2.340738421116781,
          2.340738421116781,
          2.3358223560544475,
          2.3358223560544475,
          2.3072264832610787,
          2.307226483261079,
          2.40322699854412,
          2.4032269985441195,
          2.341064476164005,
          2.341064476164005,
          2.3790349614981054,
          2.3790349614981054,
          2.3722214168165956,
          2.370343866923959,
          2.3703438669239585,
          2.289349944365957,
          2.3790725170531806,
          2.379072517053181,
          2.3250654339643306,
          2.3785024756759645,
          2.3785024756759645,
          2.3243565700203854,
          2.346303724007311,
          2.3463037240073104,
          2.3441541095086635,
          2.344154109508664,
          2.347643903283827,
          2.3476439032838265,
          2.284270791218422,
          2.284270791218422,
          2.341156755003171,
          2.341156755003171,
          2.3023830027117476,
          2.3803087695105534,
          2.3459161050052084,
          2.345916105005209,
          2.398789064219767,
          2.3987890642197667,
          2.304524681937941,
          2.3045246819379406,
          2.359846256600825,
          2.359846256600825,
          2.2766525218985634,
          2.276652521898564,
          2.361531961565592,
          2.361531961565592,
          2.3621865448913764,
          2.362186544891377,
          2.296997336665014,
          2.3812723169725416,
          2.35054940319118,
          2.35054940319118,
          2.3989977002640392,
          2.3989977002640397,
          2.365108017746905,
          2.3178397689792316,
          2.317839768979231,
          2.296493860761189,
          2.2964938607611884,
          2.3928519745691124,
          2.3928519745691124,
          2.358004775693509,
          2.3580047756935087,
          2.3152239387630265,
          2.315223938763027,
          2.3404344914894315,
          2.3404344914894324,
          2.3455065053204582,
          2.340450799891371,
          2.2721208538069106,
          2.27212085380691,
          2.3619974062706084,
          2.361997406270608,
          2.3602320004273603,
          2.3602320004273603,
          2.375117284276381,
          2.375117284276381,
          2.3852198260575443,
          2.3848066323080355,
          2.3848066323080355,
          2.384237750061386,
          2.384237750061385,
          2.3786770353452464,
          2.378677035345247,
          2.384924750509343,
          2.3573826449486224,
          2.357382644948622,
          2.392302500371265,
          2.392302500371265,
          2.3998162932187976,
          2.399816293218798,
          2.3404806021508517,
          2.3404806021508517,
          2.3636116179778983,
          2.3636116179778983,
          2.340452056446281,
          2.4121376797317944,
          2.412137679731795,
          2.3619049385372235,
          2.361904938537224,
          2.3046267190218033,
          2.304626719021803,
          2.353666772968425,
          2.353666772968425,
          2.3552484281821826,
          2.355248428182183,
          2.304784825574433,
          2.304784825574433,
          2.3881842280763705,
          2.388184228076371,
          2.3810174201339076,
          2.331798275213253,
          2.3317982752132536,
          2.3938045772650307,
          2.3938045772650307,
          2.3464050031294454,
          2.3464050031294454,
          2.37079691969116,
          2.37079691969116,
          2.3683903402173625,
          2.3683903402173634,
          2.317486478723446,
          2.3174864787234464,
          2.3954212669475536,
          2.3954212669475536,
          2.381090100033082,
          2.3450215123377305,
          2.3450215123377305,
          2.4058081248559793,
          2.4058081248559793,
          2.3671123302517154,
          2.3671123302517154,
          2.3976375837086765,
          2.397637583708677,
          2.3883276373944744,
          2.3883276373944744,
          2.307499076107147,
          2.3074990761071477,
          2.367206668709813,
          2.309839896973784,
          2.309839896973784,
          2.376545106225318,
          2.3765451062253184,
          2.333166328391331,
          2.333166328391331,
          2.3370108830626894,
          2.337010883062689,
          2.335936611209824,
          2.335936611209824,
          2.3323455598268845,
          2.332345559826885,
          2.3687200669648925,
          2.368720066964893,
          2.344520519971863,
          2.344520519971863,
          2.38270542559956,
          2.381917974125572,
          2.381917974125572,
          2.3541416014207717,
          2.354141601420772,
          2.321834360309548,
          2.3218343603095475,
          2.3221209454424465,
          2.3221209454424474,
          2.383050187514214,
          2.3830501875142147,
          2.3672350140828176,
          2.3672350140828184,
          2.3763541910522537,
          2.376354191052254,
          2.3650478295623927,
          2.365047829562393,
          2.3654757971945393,
          2.36547579719454,
          2.371473050466415,
          2.371473050466415,
          2.3980622430291216,
          2.378891594800032,
          2.303089705679942,
          2.303089705679941,
          2.3630676012052962,
          2.3630676012052967,
          2.319643373437661,
          2.3196433734376605,
          2.2989413894771715,
          2.347335497120628,
          2.3473354971206275,
          2.363209973631122,
          2.3632099736311223,
          2.3444363201141876,
          2.3444363201141876,
          2.3789180285666114,
          2.378918028566612,
          2.3446872129632013,
          2.3446872129632013,
          2.379122839458274,
          2.3791228394582746,
          2.39778750696446,
          2.3977875069644603,
          2.3188172423325684,
          2.363900713494337,
          2.3639007134943375,
          2.323751423106822,
          2.3237514231068226,
          2.3118304753678345,
          2.311830475367835,
          2.334660151483013,
          2.3346601514830128,
          2.3815835281554016,
          2.3635069351099576,
          2.3635069351099576,
          2.3420540980918902,
          2.351991975265799,
          2.3519919752657983,
          2.3183649749146373,
          2.3183649749146373,
          2.3358735008954388,
          2.335873500895439
         ],
         "marker": {
          "color": [
           1436,
           285,
           47,
           436,
           187,
           1385,
           285,
           36,
           330,
           71,
           466,
           80,
           587,
           271,
           120,
           9,
           277,
           33,
           90,
           692,
           69,
           660,
           10,
           352,
           21,
           184,
           836,
           4429,
           47,
           215,
           359,
           65,
           1064,
           18,
           11,
           228,
           132,
           1443,
           67,
           199,
           1188,
           38,
           349,
           2495,
           1314,
           317,
           68,
           18,
           236,
           72,
           485,
           594,
           62,
           27,
           202,
           767,
           55,
           41,
           341,
           95,
           698,
           24,
           156,
           88,
           346,
           68,
           952,
           181,
           19,
           79,
           210,
           10,
           11,
           312,
           177,
           50,
           58,
           23,
           323,
           1666,
           319,
           2103,
           192,
           611,
           1937,
           190,
           66,
           526,
           239,
           15,
           175,
           1196,
           543,
           179,
           411,
           26,
           4833,
           1112,
           938,
           109,
           6,
           35,
           324,
           600,
           164,
           22,
           195,
           848,
           158,
           285,
           26,
           62,
           528,
           196,
           1489,
           907,
           105,
           20,
           167,
           32,
           271,
           870,
           83,
           470,
           41,
           138,
           858,
           6,
           60,
           15,
           124,
           463,
           138,
           920,
           255,
           3245,
           1166,
           132,
           124,
           344,
           48,
           206,
           112,
           236,
           116,
           32,
           118,
           35,
           287,
           1346,
           12,
           132,
           79,
           13,
           60,
           441,
           199,
           112,
           106,
           405,
           84,
           641,
           56,
           149,
           560,
           617,
           2584,
           1796,
           8,
           95,
           793,
           311,
           1020,
           1043,
           2868,
           195,
           254,
           404,
           95,
           624,
           1147,
           360,
           118,
           728,
           2848,
           597,
           104,
           228,
           93,
           2467,
           92,
           998,
           1377,
           340,
           227,
           35,
           117,
           658,
           20,
           76,
           566,
           817,
           43,
           449,
           304,
           27,
           125,
           8,
           87,
           356,
           3212,
           825,
           2537,
           589,
           3098,
           30,
           171,
           1231,
           184,
           7,
           157,
           148,
           911,
           26,
           111,
           358,
           8,
           502,
           71,
           485,
           62,
           502,
           236,
           1558,
           5033,
           907,
           929,
           2821,
           368,
           432,
           680,
           2752,
           1976,
           97,
           428,
           45,
           40,
           144,
           260,
           45,
           951,
           518,
           72,
           1,
           89,
           563,
           68,
           19,
           96,
           814,
           305,
           2097,
           252,
           39,
           14459,
           1821,
           1528,
           6222,
           265,
           1759,
           756,
           30,
           279,
           5306,
           85,
           386,
           240,
           232,
           63,
           257,
           407,
           3569,
           2606,
           558,
           1009,
           3688,
           1493,
           381,
           15,
           102,
           558,
           1,
           1155,
           302,
           91,
           518,
           705,
           2495,
           1004,
           5,
           11,
           76,
           501,
           31,
           219,
           22,
           2224,
           571,
           173,
           181,
           229,
           46,
           262,
           638,
           40,
           252,
           1372,
           642,
           973,
           21,
           91,
           1763,
           3202,
           618,
           90,
           102,
           166,
           232,
           443,
           237,
           916,
           121,
           226,
           1092,
           82,
           1695,
           92,
           653,
           59,
           632,
           53,
           495,
           90,
           50,
           896,
           13,
           803,
           63,
           205,
           45,
           113,
           137,
           848,
           595,
           38,
           116,
           94,
           1190,
           120,
           441,
           1104,
           7649,
           95,
           959,
           354,
           54,
           18,
           195,
           132,
           218,
           1293,
           36,
           202,
           124,
           961,
           3042,
           960,
           101,
           15,
           281,
           9,
           42,
           18,
           613,
           2206,
           327,
           463,
           146,
           81,
           346,
           134,
           1144,
           63,
           565,
           1938,
           222,
           239,
           65,
           842,
           23,
           173,
           228,
           829,
           9,
           64,
           55,
           210,
           321,
           1654,
           310,
           73,
           821,
           126,
           2049,
           20,
           270,
           2584,
           1353,
           58,
           247,
           811,
           35,
           50,
           132,
           422,
           115,
           895,
           113,
           85,
           2100,
           718,
           150,
           148,
           1453,
           232,
           123,
           523,
           3488,
           75,
           784,
           174,
           685,
           110,
           61,
           496,
           7399,
           1063,
           2316,
           737,
           14,
           53,
           17,
           305,
           393,
           205,
           197,
           42,
           7,
           24,
           828,
           62,
           431,
           64,
           116,
           6,
           16,
           358,
           47,
           300,
           352,
           17,
           59,
           4,
           47,
           963,
           181
          ],
          "coloraxis": "coloraxis",
          "size": [
           1436,
           285,
           47,
           436,
           187,
           1385,
           285,
           36,
           330,
           71,
           466,
           80,
           587,
           271,
           120,
           9,
           277,
           33,
           90,
           692,
           69,
           660,
           10,
           352,
           21,
           184,
           836,
           4429,
           47,
           215,
           359,
           65,
           1064,
           18,
           11,
           228,
           132,
           1443,
           67,
           199,
           1188,
           38,
           349,
           2495,
           1314,
           317,
           68,
           18,
           236,
           72,
           485,
           594,
           62,
           27,
           202,
           767,
           55,
           41,
           341,
           95,
           698,
           24,
           156,
           88,
           346,
           68,
           952,
           181,
           19,
           79,
           210,
           10,
           11,
           312,
           177,
           50,
           58,
           23,
           323,
           1666,
           319,
           2103,
           192,
           611,
           1937,
           190,
           66,
           526,
           239,
           15,
           175,
           1196,
           543,
           179,
           411,
           26,
           4833,
           1112,
           938,
           109,
           6,
           35,
           324,
           600,
           164,
           22,
           195,
           848,
           158,
           285,
           26,
           62,
           528,
           196,
           1489,
           907,
           105,
           20,
           167,
           32,
           271,
           870,
           83,
           470,
           41,
           138,
           858,
           6,
           60,
           15,
           124,
           463,
           138,
           920,
           255,
           3245,
           1166,
           132,
           124,
           344,
           48,
           206,
           112,
           236,
           116,
           32,
           118,
           35,
           287,
           1346,
           12,
           132,
           79,
           13,
           60,
           441,
           199,
           112,
           106,
           405,
           84,
           641,
           56,
           149,
           560,
           617,
           2584,
           1796,
           8,
           95,
           793,
           311,
           1020,
           1043,
           2868,
           195,
           254,
           404,
           95,
           624,
           1147,
           360,
           118,
           728,
           2848,
           597,
           104,
           228,
           93,
           2467,
           92,
           998,
           1377,
           340,
           227,
           35,
           117,
           658,
           20,
           76,
           566,
           817,
           43,
           449,
           304,
           27,
           125,
           8,
           87,
           356,
           3212,
           825,
           2537,
           589,
           3098,
           30,
           171,
           1231,
           184,
           7,
           157,
           148,
           911,
           26,
           111,
           358,
           8,
           502,
           71,
           485,
           62,
           502,
           236,
           1558,
           5033,
           907,
           929,
           2821,
           368,
           432,
           680,
           2752,
           1976,
           97,
           428,
           45,
           40,
           144,
           260,
           45,
           951,
           518,
           72,
           1,
           89,
           563,
           68,
           19,
           96,
           814,
           305,
           2097,
           252,
           39,
           14459,
           1821,
           1528,
           6222,
           265,
           1759,
           756,
           30,
           279,
           5306,
           85,
           386,
           240,
           232,
           63,
           257,
           407,
           3569,
           2606,
           558,
           1009,
           3688,
           1493,
           381,
           15,
           102,
           558,
           1,
           1155,
           302,
           91,
           518,
           705,
           2495,
           1004,
           5,
           11,
           76,
           501,
           31,
           219,
           22,
           2224,
           571,
           173,
           181,
           229,
           46,
           262,
           638,
           40,
           252,
           1372,
           642,
           973,
           21,
           91,
           1763,
           3202,
           618,
           90,
           102,
           166,
           232,
           443,
           237,
           916,
           121,
           226,
           1092,
           82,
           1695,
           92,
           653,
           59,
           632,
           53,
           495,
           90,
           50,
           896,
           13,
           803,
           63,
           205,
           45,
           113,
           137,
           848,
           595,
           38,
           116,
           94,
           1190,
           120,
           441,
           1104,
           7649,
           95,
           959,
           354,
           54,
           18,
           195,
           132,
           218,
           1293,
           36,
           202,
           124,
           961,
           3042,
           960,
           101,
           15,
           281,
           9,
           42,
           18,
           613,
           2206,
           327,
           463,
           146,
           81,
           346,
           134,
           1144,
           63,
           565,
           1938,
           222,
           239,
           65,
           842,
           23,
           173,
           228,
           829,
           9,
           64,
           55,
           210,
           321,
           1654,
           310,
           73,
           821,
           126,
           2049,
           20,
           270,
           2584,
           1353,
           58,
           247,
           811,
           35,
           50,
           132,
           422,
           115,
           895,
           113,
           85,
           2100,
           718,
           150,
           148,
           1453,
           232,
           123,
           523,
           3488,
           75,
           784,
           174,
           685,
           110,
           61,
           496,
           7399,
           1063,
           2316,
           737,
           14,
           53,
           17,
           305,
           393,
           205,
           197,
           42,
           7,
           24,
           828,
           62,
           431,
           64,
           116,
           6,
           16,
           358,
           47,
           300,
           352,
           17,
           59,
           4,
           47,
           963,
           181
          ],
          "sizemode": "area",
          "sizeref": 16.065555555555555
         },
         "mode": "markers",
         "name": "",
         "showlegend": false,
         "subplot": "mapbox",
         "type": "scattermapbox"
        }
       ],
       "layout": {
        "coloraxis": {
         "colorbar": {
          "title": {
           "text": "Nombre de connexions"
          }
         },
         "colorscale": [
          [
           0,
           "#0d0887"
          ],
          [
           0.1111111111111111,
           "#46039f"
          ],
          [
           0.2222222222222222,
           "#7201a8"
          ],
          [
           0.3333333333333333,
           "#9c179e"
          ],
          [
           0.4444444444444444,
           "#bd3786"
          ],
          [
           0.5555555555555556,
           "#d8576b"
          ],
          [
           0.6666666666666666,
           "#ed7953"
          ],
          [
           0.7777777777777778,
           "#fb9f3a"
          ],
          [
           0.8888888888888888,
           "#fdca26"
          ],
          [
           1,
           "#f0f921"
          ]
         ]
        },
        "legend": {
         "itemsizing": "constant",
         "tracegroupgap": 0
        },
        "mapbox": {
         "center": {
          "lat": 48.857785996799414,
          "lon": 2.3502283396746746
         },
         "domain": {
          "x": [
           0,
           1
          ],
          "y": [
           0,
           1
          ]
         },
         "style": "carto-positron",
         "zoom": 10
        },
        "template": {
         "data": {
          "bar": [
           {
            "error_x": {
             "color": "#2a3f5f"
            },
            "error_y": {
             "color": "#2a3f5f"
            },
            "marker": {
             "line": {
              "color": "#E5ECF6",
              "width": 0.5
             },
             "pattern": {
              "fillmode": "overlay",
              "size": 10,
              "solidity": 0.2
             }
            },
            "type": "bar"
           }
          ],
          "barpolar": [
           {
            "marker": {
             "line": {
              "color": "#E5ECF6",
              "width": 0.5
             },
             "pattern": {
              "fillmode": "overlay",
              "size": 10,
              "solidity": 0.2
             }
            },
            "type": "barpolar"
           }
          ],
          "carpet": [
           {
            "aaxis": {
             "endlinecolor": "#2a3f5f",
             "gridcolor": "white",
             "linecolor": "white",
             "minorgridcolor": "white",
             "startlinecolor": "#2a3f5f"
            },
            "baxis": {
             "endlinecolor": "#2a3f5f",
             "gridcolor": "white",
             "linecolor": "white",
             "minorgridcolor": "white",
             "startlinecolor": "#2a3f5f"
            },
            "type": "carpet"
           }
          ],
          "choropleth": [
           {
            "colorbar": {
             "outlinewidth": 0,
             "ticks": ""
            },
            "type": "choropleth"
           }
          ],
          "contour": [
           {
            "colorbar": {
             "outlinewidth": 0,
             "ticks": ""
            },
            "colorscale": [
             [
              0,
              "#0d0887"
             ],
             [
              0.1111111111111111,
              "#46039f"
             ],
             [
              0.2222222222222222,
              "#7201a8"
             ],
             [
              0.3333333333333333,
              "#9c179e"
             ],
             [
              0.4444444444444444,
              "#bd3786"
             ],
             [
              0.5555555555555556,
              "#d8576b"
             ],
             [
              0.6666666666666666,
              "#ed7953"
             ],
             [
              0.7777777777777778,
              "#fb9f3a"
             ],
             [
              0.8888888888888888,
              "#fdca26"
             ],
             [
              1,
              "#f0f921"
             ]
            ],
            "type": "contour"
           }
          ],
          "contourcarpet": [
           {
            "colorbar": {
             "outlinewidth": 0,
             "ticks": ""
            },
            "type": "contourcarpet"
           }
          ],
          "heatmap": [
           {
            "colorbar": {
             "outlinewidth": 0,
             "ticks": ""
            },
            "colorscale": [
             [
              0,
              "#0d0887"
             ],
             [
              0.1111111111111111,
              "#46039f"
             ],
             [
              0.2222222222222222,
              "#7201a8"
             ],
             [
              0.3333333333333333,
              "#9c179e"
             ],
             [
              0.4444444444444444,
              "#bd3786"
             ],
             [
              0.5555555555555556,
              "#d8576b"
             ],
             [
              0.6666666666666666,
              "#ed7953"
             ],
             [
              0.7777777777777778,
              "#fb9f3a"
             ],
             [
              0.8888888888888888,
              "#fdca26"
             ],
             [
              1,
              "#f0f921"
             ]
            ],
            "type": "heatmap"
           }
          ],
          "heatmapgl": [
           {
            "colorbar": {
             "outlinewidth": 0,
             "ticks": ""
            },
            "colorscale": [
             [
              0,
              "#0d0887"
             ],
             [
              0.1111111111111111,
              "#46039f"
             ],
             [
              0.2222222222222222,
              "#7201a8"
             ],
             [
              0.3333333333333333,
              "#9c179e"
             ],
             [
              0.4444444444444444,
              "#bd3786"
             ],
             [
              0.5555555555555556,
              "#d8576b"
             ],
             [
              0.6666666666666666,
              "#ed7953"
             ],
             [
              0.7777777777777778,
              "#fb9f3a"
             ],
             [
              0.8888888888888888,
              "#fdca26"
             ],
             [
              1,
              "#f0f921"
             ]
            ],
            "type": "heatmapgl"
           }
          ],
          "histogram": [
           {
            "marker": {
             "pattern": {
              "fillmode": "overlay",
              "size": 10,
              "solidity": 0.2
             }
            },
            "type": "histogram"
           }
          ],
          "histogram2d": [
           {
            "colorbar": {
             "outlinewidth": 0,
             "ticks": ""
            },
            "colorscale": [
             [
              0,
              "#0d0887"
             ],
             [
              0.1111111111111111,
              "#46039f"
             ],
             [
              0.2222222222222222,
              "#7201a8"
             ],
             [
              0.3333333333333333,
              "#9c179e"
             ],
             [
              0.4444444444444444,
              "#bd3786"
             ],
             [
              0.5555555555555556,
              "#d8576b"
             ],
             [
              0.6666666666666666,
              "#ed7953"
             ],
             [
              0.7777777777777778,
              "#fb9f3a"
             ],
             [
              0.8888888888888888,
              "#fdca26"
             ],
             [
              1,
              "#f0f921"
             ]
            ],
            "type": "histogram2d"
           }
          ],
          "histogram2dcontour": [
           {
            "colorbar": {
             "outlinewidth": 0,
             "ticks": ""
            },
            "colorscale": [
             [
              0,
              "#0d0887"
             ],
             [
              0.1111111111111111,
              "#46039f"
             ],
             [
              0.2222222222222222,
              "#7201a8"
             ],
             [
              0.3333333333333333,
              "#9c179e"
             ],
             [
              0.4444444444444444,
              "#bd3786"
             ],
             [
              0.5555555555555556,
              "#d8576b"
             ],
             [
              0.6666666666666666,
              "#ed7953"
             ],
             [
              0.7777777777777778,
              "#fb9f3a"
             ],
             [
              0.8888888888888888,
              "#fdca26"
             ],
             [
              1,
              "#f0f921"
             ]
            ],
            "type": "histogram2dcontour"
           }
          ],
          "mesh3d": [
           {
            "colorbar": {
             "outlinewidth": 0,
             "ticks": ""
            },
            "type": "mesh3d"
           }
          ],
          "parcoords": [
           {
            "line": {
             "colorbar": {
              "outlinewidth": 0,
              "ticks": ""
             }
            },
            "type": "parcoords"
           }
          ],
          "pie": [
           {
            "automargin": true,
            "type": "pie"
           }
          ],
          "scatter": [
           {
            "fillpattern": {
             "fillmode": "overlay",
             "size": 10,
             "solidity": 0.2
            },
            "type": "scatter"
           }
          ],
          "scatter3d": [
           {
            "line": {
             "colorbar": {
              "outlinewidth": 0,
              "ticks": ""
             }
            },
            "marker": {
             "colorbar": {
              "outlinewidth": 0,
              "ticks": ""
             }
            },
            "type": "scatter3d"
           }
          ],
          "scattercarpet": [
           {
            "marker": {
             "colorbar": {
              "outlinewidth": 0,
              "ticks": ""
             }
            },
            "type": "scattercarpet"
           }
          ],
          "scattergeo": [
           {
            "marker": {
             "colorbar": {
              "outlinewidth": 0,
              "ticks": ""
             }
            },
            "type": "scattergeo"
           }
          ],
          "scattergl": [
           {
            "marker": {
             "colorbar": {
              "outlinewidth": 0,
              "ticks": ""
             }
            },
            "type": "scattergl"
           }
          ],
          "scattermapbox": [
           {
            "marker": {
             "colorbar": {
              "outlinewidth": 0,
              "ticks": ""
             }
            },
            "type": "scattermapbox"
           }
          ],
          "scatterpolar": [
           {
            "marker": {
             "colorbar": {
              "outlinewidth": 0,
              "ticks": ""
             }
            },
            "type": "scatterpolar"
           }
          ],
          "scatterpolargl": [
           {
            "marker": {
             "colorbar": {
              "outlinewidth": 0,
              "ticks": ""
             }
            },
            "type": "scatterpolargl"
           }
          ],
          "scatterternary": [
           {
            "marker": {
             "colorbar": {
              "outlinewidth": 0,
              "ticks": ""
             }
            },
            "type": "scatterternary"
           }
          ],
          "surface": [
           {
            "colorbar": {
             "outlinewidth": 0,
             "ticks": ""
            },
            "colorscale": [
             [
              0,
              "#0d0887"
             ],
             [
              0.1111111111111111,
              "#46039f"
             ],
             [
              0.2222222222222222,
              "#7201a8"
             ],
             [
              0.3333333333333333,
              "#9c179e"
             ],
             [
              0.4444444444444444,
              "#bd3786"
             ],
             [
              0.5555555555555556,
              "#d8576b"
             ],
             [
              0.6666666666666666,
              "#ed7953"
             ],
             [
              0.7777777777777778,
              "#fb9f3a"
             ],
             [
              0.8888888888888888,
              "#fdca26"
             ],
             [
              1,
              "#f0f921"
             ]
            ],
            "type": "surface"
           }
          ],
          "table": [
           {
            "cells": {
             "fill": {
              "color": "#EBF0F8"
             },
             "line": {
              "color": "white"
             }
            },
            "header": {
             "fill": {
              "color": "#C8D4E3"
             },
             "line": {
              "color": "white"
             }
            },
            "type": "table"
           }
          ]
         },
         "layout": {
          "annotationdefaults": {
           "arrowcolor": "#2a3f5f",
           "arrowhead": 0,
           "arrowwidth": 1
          },
          "autotypenumbers": "strict",
          "coloraxis": {
           "colorbar": {
            "outlinewidth": 0,
            "ticks": ""
           }
          },
          "colorscale": {
           "diverging": [
            [
             0,
             "#8e0152"
            ],
            [
             0.1,
             "#c51b7d"
            ],
            [
             0.2,
             "#de77ae"
            ],
            [
             0.3,
             "#f1b6da"
            ],
            [
             0.4,
             "#fde0ef"
            ],
            [
             0.5,
             "#f7f7f7"
            ],
            [
             0.6,
             "#e6f5d0"
            ],
            [
             0.7,
             "#b8e186"
            ],
            [
             0.8,
             "#7fbc41"
            ],
            [
             0.9,
             "#4d9221"
            ],
            [
             1,
             "#276419"
            ]
           ],
           "sequential": [
            [
             0,
             "#0d0887"
            ],
            [
             0.1111111111111111,
             "#46039f"
            ],
            [
             0.2222222222222222,
             "#7201a8"
            ],
            [
             0.3333333333333333,
             "#9c179e"
            ],
            [
             0.4444444444444444,
             "#bd3786"
            ],
            [
             0.5555555555555556,
             "#d8576b"
            ],
            [
             0.6666666666666666,
             "#ed7953"
            ],
            [
             0.7777777777777778,
             "#fb9f3a"
            ],
            [
             0.8888888888888888,
             "#fdca26"
            ],
            [
             1,
             "#f0f921"
            ]
           ],
           "sequentialminus": [
            [
             0,
             "#0d0887"
            ],
            [
             0.1111111111111111,
             "#46039f"
            ],
            [
             0.2222222222222222,
             "#7201a8"
            ],
            [
             0.3333333333333333,
             "#9c179e"
            ],
            [
             0.4444444444444444,
             "#bd3786"
            ],
            [
             0.5555555555555556,
             "#d8576b"
            ],
            [
             0.6666666666666666,
             "#ed7953"
            ],
            [
             0.7777777777777778,
             "#fb9f3a"
            ],
            [
             0.8888888888888888,
             "#fdca26"
            ],
            [
             1,
             "#f0f921"
            ]
           ]
          },
          "colorway": [
           "#636efa",
           "#EF553B",
           "#00cc96",
           "#ab63fa",
           "#FFA15A",
           "#19d3f3",
           "#FF6692",
           "#B6E880",
           "#FF97FF",
           "#FECB52"
          ],
          "font": {
           "color": "#2a3f5f"
          },
          "geo": {
           "bgcolor": "white",
           "lakecolor": "white",
           "landcolor": "#E5ECF6",
           "showlakes": true,
           "showland": true,
           "subunitcolor": "white"
          },
          "hoverlabel": {
           "align": "left"
          },
          "hovermode": "closest",
          "mapbox": {
           "style": "light"
          },
          "paper_bgcolor": "white",
          "plot_bgcolor": "#E5ECF6",
          "polar": {
           "angularaxis": {
            "gridcolor": "white",
            "linecolor": "white",
            "ticks": ""
           },
           "bgcolor": "#E5ECF6",
           "radialaxis": {
            "gridcolor": "white",
            "linecolor": "white",
            "ticks": ""
           }
          },
          "scene": {
           "xaxis": {
            "backgroundcolor": "#E5ECF6",
            "gridcolor": "white",
            "gridwidth": 2,
            "linecolor": "white",
            "showbackground": true,
            "ticks": "",
            "zerolinecolor": "white"
           },
           "yaxis": {
            "backgroundcolor": "#E5ECF6",
            "gridcolor": "white",
            "gridwidth": 2,
            "linecolor": "white",
            "showbackground": true,
            "ticks": "",
            "zerolinecolor": "white"
           },
           "zaxis": {
            "backgroundcolor": "#E5ECF6",
            "gridcolor": "white",
            "gridwidth": 2,
            "linecolor": "white",
            "showbackground": true,
            "ticks": "",
            "zerolinecolor": "white"
           }
          },
          "shapedefaults": {
           "line": {
            "color": "#2a3f5f"
           }
          },
          "ternary": {
           "aaxis": {
            "gridcolor": "white",
            "linecolor": "white",
            "ticks": ""
           },
           "baxis": {
            "gridcolor": "white",
            "linecolor": "white",
            "ticks": ""
           },
           "bgcolor": "#E5ECF6",
           "caxis": {
            "gridcolor": "white",
            "linecolor": "white",
            "ticks": ""
           }
          },
          "title": {
           "x": 0.05
          },
          "xaxis": {
           "automargin": true,
           "gridcolor": "white",
           "linecolor": "white",
           "ticks": "",
           "title": {
            "standoff": 15
           },
           "zerolinecolor": "white",
           "zerolinewidth": 2
          },
          "yaxis": {
           "automargin": true,
           "gridcolor": "white",
           "linecolor": "white",
           "ticks": "",
           "title": {
            "standoff": 15
           },
           "zerolinecolor": "white",
           "zerolinewidth": 2
          }
         }
        },
        "title": {
         "text": "Carte interactive des bornes Wi-Fi avec volume de connexions"
        }
       }
      }
     },
     "metadata": {},
     "output_type": "display_data"
    }
   ],
   "source": [
    "#----Séparer latitude et longitude-----#\n",
    "\n",
    "wifi_usage_data[[\"Latitude\", \"Longitude\"]] = wifi_usage_data[\"geo_point_2d\"].str.split(',', expand=True)\n",
    "wifi_usage_data[\"Latitude\"] = wifi_usage_data[\"Latitude\"].astype(float)\n",
    "wifi_usage_data[\"Longitude\"] = wifi_usage_data[\"Longitude\"].astype(float)\n",
    "\n",
    "#------ Grouper par latitude et longitude pour obtenir le total des connexions---#\n",
    "geo_data = wifi_usage_data.groupby([\"Latitude\", \"Longitude\"]).size().reset_index(name=\"Nombre de connexions\")\n",
    "\n",
    "#-------Création de la carte interactive avec Plotly----#\n",
    "\n",
    "fig = px.scatter_mapbox(\n",
    "    geo_data,\n",
    "    lat=\"Latitude\",\n",
    "    lon=\"Longitude\",\n",
    "    size=\"Nombre de connexions\",  # Taille des bulles \n",
    "    color=\"Nombre de connexions\",  \n",
    "    color_continuous_scale=px.colors.sequential.Plasma,  \n",
    "    size_max=30,  \n",
    "    zoom=10,  \n",
    "    mapbox_style=\"carto-positron\",  # Style de la carte\n",
    "    title=\"Carte interactive des bornes Wi-Fi avec volume de connexions\"\n",
    ")\n",
    "\n",
    "\n",
    "fig.show()\n"
   ]
  },
  {
   "cell_type": "markdown",
   "id": "f7d1ff5d",
   "metadata": {},
   "source": []
  },
  {
   "cell_type": "markdown",
   "id": "0dc48b04-fe9c-47a4-96ff-827db92d3a64",
   "metadata": {},
   "source": [
    "### Nombre de connexions par langue d'utilisateur :"
   ]
  },
  {
   "cell_type": "markdown",
   "id": "540190fa-159e-4ba4-940e-0468acf5f7de",
   "metadata": {},
   "source": [
    "Ce graphique représente le nombre de connexions par langue utilisée, illustré avec des drapeaux correspondant à chaque langue. Les barres montrent la proportion de connexions pour chaque langue, permettant de visualiser rapidement quelles langues sont les plus utilisées sur le réseau."
   ]
  },
  {
   "cell_type": "code",
   "execution_count": 12,
   "id": "23f16ccd-5562-4508-9f4b-35c3c191b1b7",
   "metadata": {},
   "outputs": [
    {
     "data": {
      "application/vnd.plotly.v1+json": {
       "config": {
        "plotlyServerURL": "https://plot.ly"
       },
       "data": [
        {
         "marker": {
          "color": "rgba(102, 197, 204, 0.7)",
          "line": {
           "color": "rgba(102, 197, 204, 1.0)",
           "width": 1
          }
         },
         "text": [
          217525,
          43335,
          7754,
          3897,
          3711,
          3235,
          2580,
          1865,
          962,
          789,
          783,
          726,
          546,
          220,
          65,
          15
         ],
         "textposition": "outside",
         "type": "bar",
         "x": [
          "Français",
          "Anglais",
          "Espagnol",
          "Allemand",
          "Russe",
          "Portugais",
          "Italien",
          "Chinois simplifié",
          "Arabe",
          "Coréen",
          "Néerlandais",
          "Japonais",
          "Polonais",
          "Chinois traditionnel",
          "Thaïlandais",
          "Indonésien"
         ],
         "y": [
          217525,
          43335,
          7754,
          3897,
          3711,
          3235,
          2580,
          1865,
          962,
          789,
          783,
          726,
          546,
          220,
          65,
          15
         ]
        }
       ],
       "layout": {
        "height": 700,
        "images": [
         {
          "sizex": 0.6,
          "sizey": 15226.750000000002,
          "source": "https://upload.wikimedia.org/wikipedia/commons/c/c3/Flag_of_France.svg",
          "x": 0,
          "xanchor": "center",
          "xref": "x",
          "y": 228401.25,
          "yanchor": "bottom",
          "yref": "y"
         },
         {
          "sizex": 0.6,
          "sizey": 15226.750000000002,
          "source": "https://flagcdn.com/w40/gb.png",
          "x": 1,
          "xanchor": "center",
          "xref": "x",
          "y": 54211.25,
          "yanchor": "bottom",
          "yref": "y"
         },
         {
          "sizex": 0.6,
          "sizey": 15226.750000000002,
          "source": "https://flagcdn.com/w40/es.png",
          "x": 2,
          "xanchor": "center",
          "xref": "x",
          "y": 18630.25,
          "yanchor": "bottom",
          "yref": "y"
         },
         {
          "sizex": 0.6,
          "sizey": 15226.750000000002,
          "source": "https://flagcdn.com/w40/de.png",
          "x": 3,
          "xanchor": "center",
          "xref": "x",
          "y": 14773.25,
          "yanchor": "bottom",
          "yref": "y"
         },
         {
          "sizex": 0.6,
          "sizey": 15226.750000000002,
          "source": "https://flagcdn.com/w40/ru.png",
          "x": 4,
          "xanchor": "center",
          "xref": "x",
          "y": 14587.25,
          "yanchor": "bottom",
          "yref": "y"
         },
         {
          "sizex": 0.6,
          "sizey": 15226.750000000002,
          "source": "https://flagcdn.com/w40/pt.png",
          "x": 5,
          "xanchor": "center",
          "xref": "x",
          "y": 14111.25,
          "yanchor": "bottom",
          "yref": "y"
         },
         {
          "sizex": 0.6,
          "sizey": 15226.750000000002,
          "source": "https://flagcdn.com/w40/it.png",
          "x": 6,
          "xanchor": "center",
          "xref": "x",
          "y": 13456.25,
          "yanchor": "bottom",
          "yref": "y"
         },
         {
          "sizex": 0.6,
          "sizey": 15226.750000000002,
          "source": "https://flagcdn.com/w40/cn.png",
          "x": 7,
          "xanchor": "center",
          "xref": "x",
          "y": 12741.25,
          "yanchor": "bottom",
          "yref": "y"
         },
         {
          "sizex": 0.6,
          "sizey": 15226.750000000002,
          "source": "https://flagcdn.com/w40/sa.png",
          "x": 8,
          "xanchor": "center",
          "xref": "x",
          "y": 11838.25,
          "yanchor": "bottom",
          "yref": "y"
         },
         {
          "sizex": 0.6,
          "sizey": 15226.750000000002,
          "source": "https://flagcdn.com/w40/kr.png",
          "x": 9,
          "xanchor": "center",
          "xref": "x",
          "y": 11665.25,
          "yanchor": "bottom",
          "yref": "y"
         },
         {
          "sizex": 0.6,
          "sizey": 15226.750000000002,
          "source": "https://flagcdn.com/w40/nl.png",
          "x": 10,
          "xanchor": "center",
          "xref": "x",
          "y": 11659.25,
          "yanchor": "bottom",
          "yref": "y"
         },
         {
          "sizex": 0.6,
          "sizey": 15226.750000000002,
          "source": "https://flagcdn.com/w40/jp.png",
          "x": 11,
          "xanchor": "center",
          "xref": "x",
          "y": 11602.25,
          "yanchor": "bottom",
          "yref": "y"
         },
         {
          "sizex": 0.6,
          "sizey": 15226.750000000002,
          "source": "https://flagcdn.com/w40/pl.png",
          "x": 12,
          "xanchor": "center",
          "xref": "x",
          "y": 11422.25,
          "yanchor": "bottom",
          "yref": "y"
         },
         {
          "sizex": 0.6,
          "sizey": 15226.750000000002,
          "source": "https://flagcdn.com/w40/tw.png",
          "x": 13,
          "xanchor": "center",
          "xref": "x",
          "y": 11096.25,
          "yanchor": "bottom",
          "yref": "y"
         },
         {
          "sizex": 0.6,
          "sizey": 15226.750000000002,
          "source": "https://flagcdn.com/w40/th.png",
          "x": 14,
          "xanchor": "center",
          "xref": "x",
          "y": 10941.25,
          "yanchor": "bottom",
          "yref": "y"
         },
         {
          "sizex": 0.6,
          "sizey": 15226.750000000002,
          "source": "https://flagcdn.com/w40/id.png",
          "x": 15,
          "xanchor": "center",
          "xref": "x",
          "y": 10891.25,
          "yanchor": "bottom",
          "yref": "y"
         }
        ],
        "margin": {
         "b": 50,
         "l": 50,
         "r": 50,
         "t": 50
        },
        "template": {
         "data": {
          "bar": [
           {
            "error_x": {
             "color": "#2a3f5f"
            },
            "error_y": {
             "color": "#2a3f5f"
            },
            "marker": {
             "line": {
              "color": "white",
              "width": 0.5
             },
             "pattern": {
              "fillmode": "overlay",
              "size": 10,
              "solidity": 0.2
             }
            },
            "type": "bar"
           }
          ],
          "barpolar": [
           {
            "marker": {
             "line": {
              "color": "white",
              "width": 0.5
             },
             "pattern": {
              "fillmode": "overlay",
              "size": 10,
              "solidity": 0.2
             }
            },
            "type": "barpolar"
           }
          ],
          "carpet": [
           {
            "aaxis": {
             "endlinecolor": "#2a3f5f",
             "gridcolor": "#C8D4E3",
             "linecolor": "#C8D4E3",
             "minorgridcolor": "#C8D4E3",
             "startlinecolor": "#2a3f5f"
            },
            "baxis": {
             "endlinecolor": "#2a3f5f",
             "gridcolor": "#C8D4E3",
             "linecolor": "#C8D4E3",
             "minorgridcolor": "#C8D4E3",
             "startlinecolor": "#2a3f5f"
            },
            "type": "carpet"
           }
          ],
          "choropleth": [
           {
            "colorbar": {
             "outlinewidth": 0,
             "ticks": ""
            },
            "type": "choropleth"
           }
          ],
          "contour": [
           {
            "colorbar": {
             "outlinewidth": 0,
             "ticks": ""
            },
            "colorscale": [
             [
              0,
              "#0d0887"
             ],
             [
              0.1111111111111111,
              "#46039f"
             ],
             [
              0.2222222222222222,
              "#7201a8"
             ],
             [
              0.3333333333333333,
              "#9c179e"
             ],
             [
              0.4444444444444444,
              "#bd3786"
             ],
             [
              0.5555555555555556,
              "#d8576b"
             ],
             [
              0.6666666666666666,
              "#ed7953"
             ],
             [
              0.7777777777777778,
              "#fb9f3a"
             ],
             [
              0.8888888888888888,
              "#fdca26"
             ],
             [
              1,
              "#f0f921"
             ]
            ],
            "type": "contour"
           }
          ],
          "contourcarpet": [
           {
            "colorbar": {
             "outlinewidth": 0,
             "ticks": ""
            },
            "type": "contourcarpet"
           }
          ],
          "heatmap": [
           {
            "colorbar": {
             "outlinewidth": 0,
             "ticks": ""
            },
            "colorscale": [
             [
              0,
              "#0d0887"
             ],
             [
              0.1111111111111111,
              "#46039f"
             ],
             [
              0.2222222222222222,
              "#7201a8"
             ],
             [
              0.3333333333333333,
              "#9c179e"
             ],
             [
              0.4444444444444444,
              "#bd3786"
             ],
             [
              0.5555555555555556,
              "#d8576b"
             ],
             [
              0.6666666666666666,
              "#ed7953"
             ],
             [
              0.7777777777777778,
              "#fb9f3a"
             ],
             [
              0.8888888888888888,
              "#fdca26"
             ],
             [
              1,
              "#f0f921"
             ]
            ],
            "type": "heatmap"
           }
          ],
          "heatmapgl": [
           {
            "colorbar": {
             "outlinewidth": 0,
             "ticks": ""
            },
            "colorscale": [
             [
              0,
              "#0d0887"
             ],
             [
              0.1111111111111111,
              "#46039f"
             ],
             [
              0.2222222222222222,
              "#7201a8"
             ],
             [
              0.3333333333333333,
              "#9c179e"
             ],
             [
              0.4444444444444444,
              "#bd3786"
             ],
             [
              0.5555555555555556,
              "#d8576b"
             ],
             [
              0.6666666666666666,
              "#ed7953"
             ],
             [
              0.7777777777777778,
              "#fb9f3a"
             ],
             [
              0.8888888888888888,
              "#fdca26"
             ],
             [
              1,
              "#f0f921"
             ]
            ],
            "type": "heatmapgl"
           }
          ],
          "histogram": [
           {
            "marker": {
             "pattern": {
              "fillmode": "overlay",
              "size": 10,
              "solidity": 0.2
             }
            },
            "type": "histogram"
           }
          ],
          "histogram2d": [
           {
            "colorbar": {
             "outlinewidth": 0,
             "ticks": ""
            },
            "colorscale": [
             [
              0,
              "#0d0887"
             ],
             [
              0.1111111111111111,
              "#46039f"
             ],
             [
              0.2222222222222222,
              "#7201a8"
             ],
             [
              0.3333333333333333,
              "#9c179e"
             ],
             [
              0.4444444444444444,
              "#bd3786"
             ],
             [
              0.5555555555555556,
              "#d8576b"
             ],
             [
              0.6666666666666666,
              "#ed7953"
             ],
             [
              0.7777777777777778,
              "#fb9f3a"
             ],
             [
              0.8888888888888888,
              "#fdca26"
             ],
             [
              1,
              "#f0f921"
             ]
            ],
            "type": "histogram2d"
           }
          ],
          "histogram2dcontour": [
           {
            "colorbar": {
             "outlinewidth": 0,
             "ticks": ""
            },
            "colorscale": [
             [
              0,
              "#0d0887"
             ],
             [
              0.1111111111111111,
              "#46039f"
             ],
             [
              0.2222222222222222,
              "#7201a8"
             ],
             [
              0.3333333333333333,
              "#9c179e"
             ],
             [
              0.4444444444444444,
              "#bd3786"
             ],
             [
              0.5555555555555556,
              "#d8576b"
             ],
             [
              0.6666666666666666,
              "#ed7953"
             ],
             [
              0.7777777777777778,
              "#fb9f3a"
             ],
             [
              0.8888888888888888,
              "#fdca26"
             ],
             [
              1,
              "#f0f921"
             ]
            ],
            "type": "histogram2dcontour"
           }
          ],
          "mesh3d": [
           {
            "colorbar": {
             "outlinewidth": 0,
             "ticks": ""
            },
            "type": "mesh3d"
           }
          ],
          "parcoords": [
           {
            "line": {
             "colorbar": {
              "outlinewidth": 0,
              "ticks": ""
             }
            },
            "type": "parcoords"
           }
          ],
          "pie": [
           {
            "automargin": true,
            "type": "pie"
           }
          ],
          "scatter": [
           {
            "fillpattern": {
             "fillmode": "overlay",
             "size": 10,
             "solidity": 0.2
            },
            "type": "scatter"
           }
          ],
          "scatter3d": [
           {
            "line": {
             "colorbar": {
              "outlinewidth": 0,
              "ticks": ""
             }
            },
            "marker": {
             "colorbar": {
              "outlinewidth": 0,
              "ticks": ""
             }
            },
            "type": "scatter3d"
           }
          ],
          "scattercarpet": [
           {
            "marker": {
             "colorbar": {
              "outlinewidth": 0,
              "ticks": ""
             }
            },
            "type": "scattercarpet"
           }
          ],
          "scattergeo": [
           {
            "marker": {
             "colorbar": {
              "outlinewidth": 0,
              "ticks": ""
             }
            },
            "type": "scattergeo"
           }
          ],
          "scattergl": [
           {
            "marker": {
             "colorbar": {
              "outlinewidth": 0,
              "ticks": ""
             }
            },
            "type": "scattergl"
           }
          ],
          "scattermapbox": [
           {
            "marker": {
             "colorbar": {
              "outlinewidth": 0,
              "ticks": ""
             }
            },
            "type": "scattermapbox"
           }
          ],
          "scatterpolar": [
           {
            "marker": {
             "colorbar": {
              "outlinewidth": 0,
              "ticks": ""
             }
            },
            "type": "scatterpolar"
           }
          ],
          "scatterpolargl": [
           {
            "marker": {
             "colorbar": {
              "outlinewidth": 0,
              "ticks": ""
             }
            },
            "type": "scatterpolargl"
           }
          ],
          "scatterternary": [
           {
            "marker": {
             "colorbar": {
              "outlinewidth": 0,
              "ticks": ""
             }
            },
            "type": "scatterternary"
           }
          ],
          "surface": [
           {
            "colorbar": {
             "outlinewidth": 0,
             "ticks": ""
            },
            "colorscale": [
             [
              0,
              "#0d0887"
             ],
             [
              0.1111111111111111,
              "#46039f"
             ],
             [
              0.2222222222222222,
              "#7201a8"
             ],
             [
              0.3333333333333333,
              "#9c179e"
             ],
             [
              0.4444444444444444,
              "#bd3786"
             ],
             [
              0.5555555555555556,
              "#d8576b"
             ],
             [
              0.6666666666666666,
              "#ed7953"
             ],
             [
              0.7777777777777778,
              "#fb9f3a"
             ],
             [
              0.8888888888888888,
              "#fdca26"
             ],
             [
              1,
              "#f0f921"
             ]
            ],
            "type": "surface"
           }
          ],
          "table": [
           {
            "cells": {
             "fill": {
              "color": "#EBF0F8"
             },
             "line": {
              "color": "white"
             }
            },
            "header": {
             "fill": {
              "color": "#C8D4E3"
             },
             "line": {
              "color": "white"
             }
            },
            "type": "table"
           }
          ]
         },
         "layout": {
          "annotationdefaults": {
           "arrowcolor": "#2a3f5f",
           "arrowhead": 0,
           "arrowwidth": 1
          },
          "autotypenumbers": "strict",
          "coloraxis": {
           "colorbar": {
            "outlinewidth": 0,
            "ticks": ""
           }
          },
          "colorscale": {
           "diverging": [
            [
             0,
             "#8e0152"
            ],
            [
             0.1,
             "#c51b7d"
            ],
            [
             0.2,
             "#de77ae"
            ],
            [
             0.3,
             "#f1b6da"
            ],
            [
             0.4,
             "#fde0ef"
            ],
            [
             0.5,
             "#f7f7f7"
            ],
            [
             0.6,
             "#e6f5d0"
            ],
            [
             0.7,
             "#b8e186"
            ],
            [
             0.8,
             "#7fbc41"
            ],
            [
             0.9,
             "#4d9221"
            ],
            [
             1,
             "#276419"
            ]
           ],
           "sequential": [
            [
             0,
             "#0d0887"
            ],
            [
             0.1111111111111111,
             "#46039f"
            ],
            [
             0.2222222222222222,
             "#7201a8"
            ],
            [
             0.3333333333333333,
             "#9c179e"
            ],
            [
             0.4444444444444444,
             "#bd3786"
            ],
            [
             0.5555555555555556,
             "#d8576b"
            ],
            [
             0.6666666666666666,
             "#ed7953"
            ],
            [
             0.7777777777777778,
             "#fb9f3a"
            ],
            [
             0.8888888888888888,
             "#fdca26"
            ],
            [
             1,
             "#f0f921"
            ]
           ],
           "sequentialminus": [
            [
             0,
             "#0d0887"
            ],
            [
             0.1111111111111111,
             "#46039f"
            ],
            [
             0.2222222222222222,
             "#7201a8"
            ],
            [
             0.3333333333333333,
             "#9c179e"
            ],
            [
             0.4444444444444444,
             "#bd3786"
            ],
            [
             0.5555555555555556,
             "#d8576b"
            ],
            [
             0.6666666666666666,
             "#ed7953"
            ],
            [
             0.7777777777777778,
             "#fb9f3a"
            ],
            [
             0.8888888888888888,
             "#fdca26"
            ],
            [
             1,
             "#f0f921"
            ]
           ]
          },
          "colorway": [
           "#636efa",
           "#EF553B",
           "#00cc96",
           "#ab63fa",
           "#FFA15A",
           "#19d3f3",
           "#FF6692",
           "#B6E880",
           "#FF97FF",
           "#FECB52"
          ],
          "font": {
           "color": "#2a3f5f"
          },
          "geo": {
           "bgcolor": "white",
           "lakecolor": "white",
           "landcolor": "white",
           "showlakes": true,
           "showland": true,
           "subunitcolor": "#C8D4E3"
          },
          "hoverlabel": {
           "align": "left"
          },
          "hovermode": "closest",
          "mapbox": {
           "style": "light"
          },
          "paper_bgcolor": "white",
          "plot_bgcolor": "white",
          "polar": {
           "angularaxis": {
            "gridcolor": "#EBF0F8",
            "linecolor": "#EBF0F8",
            "ticks": ""
           },
           "bgcolor": "white",
           "radialaxis": {
            "gridcolor": "#EBF0F8",
            "linecolor": "#EBF0F8",
            "ticks": ""
           }
          },
          "scene": {
           "xaxis": {
            "backgroundcolor": "white",
            "gridcolor": "#DFE8F3",
            "gridwidth": 2,
            "linecolor": "#EBF0F8",
            "showbackground": true,
            "ticks": "",
            "zerolinecolor": "#EBF0F8"
           },
           "yaxis": {
            "backgroundcolor": "white",
            "gridcolor": "#DFE8F3",
            "gridwidth": 2,
            "linecolor": "#EBF0F8",
            "showbackground": true,
            "ticks": "",
            "zerolinecolor": "#EBF0F8"
           },
           "zaxis": {
            "backgroundcolor": "white",
            "gridcolor": "#DFE8F3",
            "gridwidth": 2,
            "linecolor": "#EBF0F8",
            "showbackground": true,
            "ticks": "",
            "zerolinecolor": "#EBF0F8"
           }
          },
          "shapedefaults": {
           "line": {
            "color": "#2a3f5f"
           }
          },
          "ternary": {
           "aaxis": {
            "gridcolor": "#DFE8F3",
            "linecolor": "#A2B1C6",
            "ticks": ""
           },
           "baxis": {
            "gridcolor": "#DFE8F3",
            "linecolor": "#A2B1C6",
            "ticks": ""
           },
           "bgcolor": "white",
           "caxis": {
            "gridcolor": "#DFE8F3",
            "linecolor": "#A2B1C6",
            "ticks": ""
           }
          },
          "title": {
           "x": 0.05
          },
          "xaxis": {
           "automargin": true,
           "gridcolor": "#EBF0F8",
           "linecolor": "#EBF0F8",
           "ticks": "",
           "title": {
            "standoff": 15
           },
           "zerolinecolor": "#EBF0F8",
           "zerolinewidth": 2
          },
          "yaxis": {
           "automargin": true,
           "gridcolor": "#EBF0F8",
           "linecolor": "#EBF0F8",
           "ticks": "",
           "title": {
            "standoff": 15
           },
           "zerolinecolor": "#EBF0F8",
           "zerolinewidth": 2
          }
         }
        },
        "title": {
         "font": {
          "size": 18
         },
         "text": "Nombre de connexions par langue d'utilisateur",
         "x": 0.5,
         "xanchor": "center",
         "yanchor": "top"
        },
        "width": 1000,
        "xaxis": {
         "dtick": 20000,
         "tickmode": "linear",
         "title": {
          "text": "Langues des utilisateurs"
         }
        },
        "yaxis": {
         "title": {
          "text": "Nombre de connexions"
         }
        }
       }
      }
     },
     "metadata": {},
     "output_type": "display_data"
    }
   ],
   "source": [
    "\n",
    "#------- Corrections des langues-----#\n",
    "\n",
    "corrections = {\n",
    "    'Fran\\x8dais': 'Français',\n",
    "    'Fran‡ais': 'Français',\n",
    "    'Chinois simplifi‚': 'Chinois simplifié',\n",
    "    'Chinois simplifiŽ': 'Chinois simplifié',\n",
    "    'Chinois traditionnel': 'Chinois traditionnel',\n",
    "    'CorŽen': 'Coréen',\n",
    "    'Cor‚en': 'Coréen',\n",
    "    'NŽerlandais': 'Néerlandais',\n",
    "    'N‚erlandais': 'Néerlandais',\n",
    "    'Indon‚sien': 'Indonésien'\n",
    "}\n",
    "\n",
    "wifi_usage_data['Langue utilisateur'] = wifi_usage_data['Langue utilisateur'].replace(corrections)\n",
    "\n",
    "#-------Ajout des images de drapeau-----#\n",
    "langue_to_flag = {\n",
    "    \"Français\": \"https://upload.wikimedia.org/wikipedia/commons/c/c3/Flag_of_France.svg\",\n",
    "    \"Anglais\": \"https://flagcdn.com/w40/gb.png\",  \n",
    "    \"Espagnol\": \"https://flagcdn.com/w40/es.png\",\n",
    "    \"Chinois simplifié\": \"https://flagcdn.com/w40/cn.png\",\n",
    "    \"Chinois traditionnel\": \"https://flagcdn.com/w40/tw.png\",\n",
    "    \"Coréen\": \"https://flagcdn.com/w40/kr.png\",\n",
    "    \"Néerlandais\": \"https://flagcdn.com/w40/nl.png\",\n",
    "    \"Indonésien\": \"https://flagcdn.com/w40/id.png\",\n",
    "    \"Allemand\": \"https://flagcdn.com/w40/de.png\",\n",
    "    \"Italien\": \"https://flagcdn.com/w40/it.png\",\n",
    "    \"Russe\": \"https://flagcdn.com/w40/ru.png\",\n",
    "    \"Portugais\": \"https://flagcdn.com/w40/pt.png\",\n",
    "    \"Arabe\": \"https://flagcdn.com/w40/sa.png\",\n",
    "    \"Japonais\": \"https://flagcdn.com/w40/jp.png\",\n",
    "    \"Polonais\": \"https://flagcdn.com/w40/pl.png\",\n",
    "    \"Thaïlandais\": \"https://flagcdn.com/w40/th.png\"\n",
    "}\n",
    "\n",
    "#---On ajoute une colonne \"Drapeau\" en fonction des langues---#\n",
    "\n",
    "wifi_usage_data['Drapeau'] = wifi_usage_data['Langue utilisateur'].map(langue_to_flag)\n",
    "\n",
    "#---On va compter les connexions par langue----#\n",
    "\n",
    "langue_data = wifi_usage_data['Langue utilisateur'].value_counts().reset_index()\n",
    "langue_data.columns = ['Langue', 'Nombre de connexions']\n",
    "\n",
    "#-----Ajout des drapeaux correspondants----#\n",
    "\n",
    "langue_data['Drapeau'] = langue_data['Langue'].map(langue_to_flag)\n",
    "\n",
    "#---Graphique en barres avec drapeaux---#\n",
    "\n",
    "fig = go.Figure()\n",
    "\n",
    "fig.add_trace(\n",
    "    go.Bar(\n",
    "        x=langue_data['Langue'],\n",
    "        y=langue_data['Nombre de connexions'],\n",
    "        text=langue_data['Nombre de connexions'],\n",
    "        textposition='outside',    # Position au-dessus des barres\n",
    "        marker=dict(color='rgba(102, 197, 204, 0.7)', line=dict(color='rgba(102, 197, 204, 1.0)', width=1)),\n",
    "    )\n",
    ")\n",
    "\n",
    "#----Positionnement des images des drapeaux----#\n",
    "for i, row in langue_data.iterrows():\n",
    "    fig.add_layout_image(\n",
    "        dict(\n",
    "            source=row['Drapeau'],\n",
    "            x=i,\n",
    "            y=row['Nombre de connexions'] + max(langue_data['Nombre de connexions']) * 0.05,\n",
    "            xref=\"x\",\n",
    "            yref=\"y\",\n",
    "            sizex=0.6,  # Taille horizontale\n",
    "            sizey=max(langue_data['Nombre de connexions']) * 0.07,  # Taille verticale\n",
    "            xanchor=\"center\",\n",
    "            yanchor=\"bottom\"\n",
    "        )\n",
    "    )\n",
    "\n",
    "#---- MAJ du layout----#\n",
    "\n",
    "fig.update_layout(\n",
    "    title={\n",
    "        \"text\": \"Nombre de connexions par langue d'utilisateur\",\n",
    "        \"x\": 0.5, \n",
    "        \"xanchor\": \"center\",  \n",
    "        \"yanchor\": \"top\",\n",
    "        \"font\": {\"size\": 18}\n",
    "    },\n",
    "    xaxis_title=\"Langues des utilisateurs\",\n",
    "    yaxis_title=\"Nombre de connexions\",\n",
    "    xaxis=dict(tickmode='linear', dtick=20000),\n",
    "    template=\"plotly_white\",\n",
    "    height=700,  \n",
    "    width=1000,\n",
    "    margin=dict(t=50, b=50, r=50, l=50),\n",
    ")\n",
    "\n",
    "fig.show()\n"
   ]
  },
  {
   "cell_type": "markdown",
   "id": "ac1e32eb-4277-4465-8990-9fc3eb49e8f6",
   "metadata": {},
   "source": [
    "## <p style=\"text-align: center;\"><b>Worldcloud 🌍 </b></p>"
   ]
  },
  {
   "cell_type": "markdown",
   "id": "2404553b",
   "metadata": {},
   "source": [
    "**Objectif :** Créer un Word Cloud à partir d’un texte (`articlepresse.txt`), en mettant en avant les noms communs extraits avec SpaCy. Le nuage de mots prend la forme d’un symbole Wi-Fi (`wf.png`) avec un fond noir, des couleurs adaptées et un contour blanc, pour une visualisation claire et esthétique des concepts clés."
   ]
  },
  {
   "cell_type": "markdown",
   "id": "6a8fae46",
   "metadata": {},
   "source": [
    "Site Web de l'article : https://actus.sfr.fr/tech/internet/les-hotspots-wifi-un-danger_AN-201908020003.html"
   ]
  },
  {
   "cell_type": "markdown",
   "id": "b88cc694-073e-4239-9487-60f0f35e7a73",
   "metadata": {},
   "source": [
    "### Importations : "
   ]
  },
  {
   "cell_type": "code",
   "execution_count": 13,
   "id": "8e0ab9d9",
   "metadata": {},
   "outputs": [
    {
     "name": "stdout",
     "output_type": "stream",
     "text": [
      "Requirement already satisfied: wordcloud in c:\\users\\wouaff\\anaconda3\\envs\\spacy_env\\lib\\site-packages (1.9.4)\n",
      "Requirement already satisfied: matplotlib in c:\\users\\wouaff\\anaconda3\\envs\\spacy_env\\lib\\site-packages (3.9.3)\n",
      "Requirement already satisfied: pillow in c:\\users\\wouaff\\anaconda3\\envs\\spacy_env\\lib\\site-packages (11.0.0)\n",
      "Requirement already satisfied: numpy>=1.6.1 in c:\\users\\wouaff\\anaconda3\\envs\\spacy_env\\lib\\site-packages (from wordcloud) (1.24.4)\n",
      "Requirement already satisfied: contourpy>=1.0.1 in c:\\users\\wouaff\\anaconda3\\envs\\spacy_env\\lib\\site-packages (from matplotlib) (1.3.1)\n",
      "Requirement already satisfied: cycler>=0.10 in c:\\users\\wouaff\\anaconda3\\envs\\spacy_env\\lib\\site-packages (from matplotlib) (0.12.1)\n",
      "Requirement already satisfied: fonttools>=4.22.0 in c:\\users\\wouaff\\anaconda3\\envs\\spacy_env\\lib\\site-packages (from matplotlib) (4.55.0)\n",
      "Requirement already satisfied: kiwisolver>=1.3.1 in c:\\users\\wouaff\\anaconda3\\envs\\spacy_env\\lib\\site-packages (from matplotlib) (1.4.7)\n",
      "Requirement already satisfied: packaging>=20.0 in c:\\users\\wouaff\\anaconda3\\envs\\spacy_env\\lib\\site-packages (from matplotlib) (24.2)\n",
      "Requirement already satisfied: pyparsing>=2.3.1 in c:\\users\\wouaff\\anaconda3\\envs\\spacy_env\\lib\\site-packages (from matplotlib) (3.2.0)\n",
      "Requirement already satisfied: python-dateutil>=2.7 in c:\\users\\wouaff\\anaconda3\\envs\\spacy_env\\lib\\site-packages (from matplotlib) (2.9.0.post0)\n",
      "Requirement already satisfied: six>=1.5 in c:\\users\\wouaff\\anaconda3\\envs\\spacy_env\\lib\\site-packages (from python-dateutil>=2.7->matplotlib) (1.16.0)\n",
      "Note: you may need to restart the kernel to use updated packages.\n"
     ]
    }
   ],
   "source": [
    "pip install wordcloud matplotlib pillow\n"
   ]
  },
  {
   "cell_type": "code",
   "execution_count": 14,
   "id": "4811787b",
   "metadata": {},
   "outputs": [
    {
     "name": "stderr",
     "output_type": "stream",
     "text": [
      "c:\\Users\\Wouaff\\anaconda3\\envs\\spacy_env\\lib\\site-packages\\PIL\\Image.py:1054: UserWarning:\n",
      "\n",
      "Palette images with Transparency expressed in bytes should be converted to RGBA images\n",
      "\n"
     ]
    },
    {
     "data": {
      "image/png": "[encoded data removed]",
      "text/plain": [
       "<Figure size 800x800 with 1 Axes>"
      ]
     },
     "metadata": {},
     "output_type": "display_data"
    }
   ],
   "source": [
    "from wordcloud import WordCloud\n",
    "import matplotlib.pyplot as plt\n",
    "from PIL import Image\n",
    "import numpy as np\n",
    "import spacy\n",
    "\n",
    "\n",
    "nlp = spacy.load(\"fr_core_news_sm\")\n",
    "\n",
    "#----Analuse du texte avec spaCy---#\n",
    "\n",
    "with open(\"articlepresse.txt\", \"r\", encoding=\"utf-8\") as file:\n",
    "    text = file.read()\n",
    "\n",
    "doc = nlp(text)\n",
    "\n",
    "#--- Je souhaite qu'on retienne que les noms--#\n",
    "\n",
    "nouns = [token.text for token in doc if token.pos_ == \"NOUN\"]\n",
    "filtered_text = \" \".join(nouns)\n",
    "\n",
    "#---- Charger le masque à partir de l'image---#\n",
    "\n",
    "mask = np.array(Image.open(\"wf.png\").convert(\"L\"))\n",
    "\n",
    "#--- WordCloud avec masque + texte filtré--#\n",
    "\n",
    "wordcloud = WordCloud(\n",
    "    background_color=\"white\",\n",
    "    mask=mask,\n",
    "    contour_width=1,       \n",
    "    contour_color=\"black\", \n",
    "    colormap=\"viridis\",    \n",
    "    max_words=200          \n",
    ").generate(filtered_text)\n",
    "\n",
    "#----Affichage---#\n",
    "\n",
    "plt.figure(figsize=(8, 8))\n",
    "plt.imshow(wordcloud, interpolation=\"bilinear\")\n",
    "plt.axis(\"off\")\n",
    "plt.title(\"Visualisation des Concepts : Sécurité et Connexions Wi-Fi\")\n",
    "plt.show()\n"
   ]
  },
  {
   "cell_type": "markdown",
   "id": "7af7216a",
   "metadata": {},
   "source": [
    "**Analyse du Word Cloud :**  \n",
    "Le Word Cloud met en évidence les concepts clés du texte analysé. Les termes comme **\"hotspot\"**, **\"connexion\"**, **\"réseau\"** et **\"sécurité\"** apparaissent en grand, indiquant leur fréquence élevée et leur importance centrale dans le texte. D'autres termes comme **\"pirate\"**, **\"données\"**, et **\"pièce\"** renforcent l'accent mis sur les problématiques liées à la cybersécurité et aux connexions sans fil. La disposition esthétique sous forme de symbole Wi-Fi souligne visuellement le sujet principal."
   ]
  }
 ],
 "metadata": {
  "kernelspec": {
   "display_name": "spacy_env",
   "language": "python",
   "name": "python3"
  },
  "language_info": {
   "codemirror_mode": {
    "name": "ipython",
    "version": 3
   },
   "file_extension": ".py",
   "mimetype": "text/x-python",
   "name": "python",
   "nbconvert_exporter": "python",
   "pygments_lexer": "ipython3",
   "version": "3.10.15"
  }
 },
 "nbformat": 4,
 "nbformat_minor": 5
}
